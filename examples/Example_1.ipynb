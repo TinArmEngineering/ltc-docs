{
 "cells": [
  {
   "cell_type": "markdown",
   "metadata": {},
   "source": [
    "<a target=\"_blank\" href=\"https://colab.research.google.com/github/TinArmEngineering/ltc_internal_examples/blob/main/Example_1.ipynb\">\n",
    "  <img src=\"https://colab.research.google.com/assets/colab-badge.svg\" alt=\"Open In Colab\"/>\n",
    "</a>"
   ]
  },
  {
   "cell_type": "code",
   "execution_count": 1,
   "metadata": {},
   "outputs": [],
   "source": [
    "try:\n",
    "    from google.colab import drive\n",
    "    drive.mount('/content/drive')\n",
    "    IN_COLAB = True\n",
    "    with open('requirements.txt', 'w') as fout:\n",
    "        fout.write(\"\"\"ltc_client>=0.2.3\n",
    "        pint\n",
    "        pandas\n",
    "        pint-pandas\n",
    "        matplotlib\n",
    "        pyyaml\n",
    "        scipy\n",
    "        openpyxl\"\"\")\n",
    "except:\n",
    "    IN_COLAB = False\n",
    "    "
   ]
  },
  {
   "cell_type": "code",
   "execution_count": 2,
   "metadata": {},
   "outputs": [],
   "source": [
    "%%capture --no-display\n",
    "!pip install -r requirements.txt\n"
   ]
  },
  {
   "cell_type": "code",
   "execution_count": 3,
   "metadata": {},
   "outputs": [
    {
     "name": "stderr",
     "output_type": "stream",
     "text": [
      "/home/mjfwest/repositories/ltc_internal_examples/.venv/lib/python3.12/site-packages/tqdm/auto.py:21: TqdmWarning: IProgress not found. Please update jupyter and ipywidgets. See https://ipywidgets.readthedocs.io/en/stable/user_install.html\n",
      "  from .autonotebook import tqdm as notebook_tqdm\n"
     ]
    }
   ],
   "source": [
    "import matplotlib.pyplot as plt\n",
    "import ltc_client\n",
    "import logging\n",
    "import time\n",
    "import yaml\n",
    "import pandas as pd\n",
    "import pint_pandas\n",
    "import numpy as np\n"
   ]
  },
  {
   "cell_type": "markdown",
   "metadata": {},
   "source": [
    "# Starting up\n",
    "Log into the website for Tin Arm Engineering's machine solver, and under profile, retrieve your API key, and optionaly, the organisation id that you wish to use.  \n",
    "Do not commit your API key to a repository, and consider it like a password.  There are a few good ways to keep it out of the code base. If I am developing locally I use a configuation file, or environment variable.  If running on Google's [colab](https://colab.research.google.com/) you can use `from google.colab import userdata`. We will want other things cofigured too, so let's use a yaml file for convenience. \n",
    "\n",
    "create a `configurations.yaml` file in this directory with the content.\n",
    "```yaml\n",
    "api_key: 8b6565701741b979645986b3999e0*** # This is your API key, retrieve it from your account page\n",
    "org_id: 664c7a32082dfb8e39e30*** # This is your organization ID, retrieve it from your account page\n",
    "root_url: https://api.ltc.tinarmengineering.com # This is your root URL for the BUILD server, eventually this will be the URL for the Production server\n",
    "queue_url: wss://queue.ltc.tinarmengineering.com:15671/ws # This is the webscoket URL for the RabbitMQ server, again eventually this will be the URL for the Production rabbitMQserver\n",
    "queue_user: t**** #  this is a temporary username for the RabbitMQ server, we will soon have better solution for this\n",
    "queue_password: U*** # this is a temporary password for the RabbitMQ server, we will soon have better solution for this\n",
    "datasheet_path: <path somewhere>/SteelDataSheets/ # This is the path to the Steel Data Sheets, used in some examples\n",
    "results_path: <path somewhere>/Presentations/ # This is the path to where you wan't your results stored.\n",
    "```\n",
    "But of course replace the paths and *** with your keys, and passwords. \n",
    "\n",
    "You can then add that file to your `.gitignore` file by executing ```echo 'configurations.yaml' >> .gitignore```  this will help prevent accitdents.  "
   ]
  },
  {
   "cell_type": "markdown",
   "metadata": {},
   "source": [
    "```\n",
    "!echo 'configurations.yaml' >> .gitignore\n",
    "```"
   ]
  },
  {
   "cell_type": "code",
   "execution_count": 4,
   "metadata": {},
   "outputs": [
    {
     "name": "stdout",
     "output_type": "stream",
     "text": [
      "Running locally\n"
     ]
    }
   ],
   "source": [
    "# are we running in google colab?\n",
    "if IN_COLAB:\n",
    "    from google.colab import userdata\n",
    "    \n",
    "    print(\"Running in Google Colab\")\n",
    "    config = {'root_url': \"https://api.ltc.tinarmengineering.com\",\n",
    "              'queue_url':\"wss://queue.ltc.tinarmengineering.com:15671/ws\",\n",
    "              'api_key': userdata.get(\"api_key\"),\n",
    "              'org_id': userdata.get(\"org_id\"),\n",
    "              'queue_user': userdata.get(\"queue_user\"),\n",
    "              'queue_password': userdata.get(\"queue_password\")}\n",
    "else:\n",
    "    \n",
    "    print(\"Running locally\")\n",
    "    with open(\"configurations.yaml\", \"r\") as f:\n",
    "        config = yaml.safe_load(f)\n"
   ]
  },
  {
   "cell_type": "markdown",
   "metadata": {},
   "source": [
    "## Configure logging\n",
    "There are many ways to do this, refer to the internet"
   ]
  },
  {
   "cell_type": "code",
   "execution_count": 5,
   "metadata": {},
   "outputs": [
    {
     "name": "stderr",
     "output_type": "stream",
     "text": [
      "2024-07-05 10:41:08,831 - root - INFO - tinarm version 0.2.3\n",
      "2024-07-05 10:41:08,831 - root - INFO - pint_pandas version 0.6\n",
      "2024-07-05 10:41:08,831 - root - INFO - pint_pandas version 0.6\n"
     ]
    }
   ],
   "source": [
    "LOGGING_LEVEL = logging.INFO\n",
    "### Configure Logging\n",
    "logger = logging.getLogger()\n",
    "logger.setLevel(LOGGING_LEVEL)\n",
    "ch = logging.StreamHandler()\n",
    "ch.setLevel(LOGGING_LEVEL)\n",
    "formatter = logging.Formatter('%(asctime)s - %(name)s - %(levelname)s - %(message)s')\n",
    "ch.setFormatter(formatter)\n",
    "logger.addHandler(ch)\n",
    "\n",
    "logger.info(f\"tinarm version {ltc_client.__version__}\")\n",
    "logger.info(f\"pint_pandas version {pint_pandas.__version__}\")\n"
   ]
  },
  {
   "cell_type": "markdown",
   "metadata": {},
   "source": [
    "## Uinit Handling. \n",
    "The API enforces correct units to avoid ambiguity and errors. This is made easy as the API is compatible with [Pint](https://pint.readthedocs.io/en/stable/) and  Pint-Pandas unit handling libraries.  "
   ]
  },
  {
   "cell_type": "code",
   "execution_count": 6,
   "metadata": {},
   "outputs": [],
   "source": [
    "\n",
    "q = pint_pandas.PintType.ureg\n",
    "q.setup_matplotlib()"
   ]
  },
  {
   "cell_type": "markdown",
   "metadata": {},
   "source": [
    "## Set up the machine. \n",
    "We will do a simulation of a concentrated wound fractional slot machine, we will get on to how to design the machine later.  The machine is comprised of:\n",
    "1. the stator, and a \n",
    "2. rotor, \n",
    "3. and the winding parameters \n",
    "### Stator\n",
    "The tooth wound stator is parameterised by the following dictionary of parameters. "
   ]
  },
  {
   "cell_type": "code",
   "execution_count": 7,
   "metadata": {},
   "outputs": [],
   "source": [
    "air_gap_length = 1 * q.mm\n",
    "\n",
    "stator_parameters = {\n",
    "    \"slot_liner_thickness\": 300 * q.um,\n",
    "    \"stator_bore\": 8.20 * q.cm,\n",
    "    \"tooth_tip_depth\": 1.0 * q.mm,\n",
    "    \"slot_opening\": 1.5 * q.mm,\n",
    "    \"tooth_width\": 9.8 * q.mm,\n",
    "    \"stator_outer_diameter\": 0.136 * q.m,\n",
    "    \"back_iron_thickness\": 5.5 * q.mm,\n",
    "    \"stator_internal_radius\": 500 * q.um,\n",
    "    \"number_slots\": 12 * q.count,\n",
    "    \"tooth_tip_angle\": 70 * q.degrees\n",
    "    }\n",
    "\n"
   ]
  },
  {
   "cell_type": "markdown",
   "metadata": {},
   "source": [
    "### Rotor\n",
    "A suitable rotor for this machine is a Surface Mounted rotor with Breadloaf Magnets.  It is parameterised by the following dictionary. We've used the variable `air_gap_length' to link the rotor_od to the stator bore.\n"
   ]
  },
  {
   "cell_type": "code",
   "execution_count": 8,
   "metadata": {},
   "outputs": [],
   "source": [
    "rotor_parameters = {\n",
    "    \"rotor_od\": stator_parameters[\"stator_bore\"] - 2 * air_gap_length,\n",
    "    \"rotor_bore\": 40 * q.mm,\n",
    "    \"banding_thickness\": 0.5 * q.mm,\n",
    "    \"number_poles\": 10 * q.count,\n",
    "    \"magnet_thickness\": 4.5 * q.millimeter,\n",
    "    \"magnet_pole_arc\": 150 * q.degrees,\n",
    "    \"magnet_inset\": 0.25 * q.millimeter\n",
    "    }"
   ]
  },
  {
   "cell_type": "markdown",
   "metadata": {},
   "source": [
    "## Winding\n",
    "The winding is described by the winding parametrs.  These need further explanation.  The parameter symmetry sets the degrees of symmetry used in the simulation. "
   ]
  },
  {
   "cell_type": "code",
   "execution_count": 9,
   "metadata": {},
   "outputs": [
    {
     "data": {
      "text/html": [
       "2 count"
      ],
      "text/latex": [
       "$2\\ \\mathrm{count}$"
      ],
      "text/plain": [
       "<Quantity(2, 'count')>"
      ]
     },
     "execution_count": 9,
     "metadata": {},
     "output_type": "execute_result"
    }
   ],
   "source": [
    "# calculate the GCD of the number of slots and the number of poles\n",
    "symmetry = np.gcd(stator_parameters[\"number_slots\"].magnitude, rotor_parameters[\"number_poles\"].magnitude) * q.count\n",
    "symmetry"
   ]
  },
  {
   "cell_type": "code",
   "execution_count": 10,
   "metadata": {},
   "outputs": [],
   "source": [
    "winding_parameters = {\n",
    "    \"symmetry\": symmetry,\n",
    "    \"number_phases\": 3 * q.count,\n",
    "    \"number_layers\": 2 * q.count,\n",
    "    \"coil_span\": 1 * q.count,\n",
    "    \"turns_per_coil\": 43 * q.count,\n",
    "    \"empty_slots\": 0 * q.count,\n",
    "    \"fill_factor\": 42 * q.percent\n",
    "    }"
   ]
  },
  {
   "cell_type": "markdown",
   "metadata": {},
   "source": [
    "Finally create the Machine using the class `ltc_client.Machine`. This will initialise it with default materials.  We will change the materials later. "
   ]
  },
  {
   "cell_type": "code",
   "execution_count": 11,
   "metadata": {},
   "outputs": [
    {
     "name": "stdout",
     "output_type": "stream",
     "text": [
      "rotor_lamination: 66018e5d1cd3bd0d3453646f\n",
      "rotor_magnet: 66018e5b1cd3bd0d3453646c\n",
      "rotor_air_L: 6602fb42c4a87c305481e8a6\n",
      "rotor_air_R: 6602fb42c4a87c305481e8a6\n",
      "rotor_banding: 6602fb42c4a87c305481e8a6\n",
      "stator_lamination: 66018e5d1cd3bd0d3453646f\n",
      "stator_slot_wedge: 6602fb7239bfdea291a25dd7\n",
      "stator_slot_liner: 6602fb5166d3c6adaa8ebe8c\n",
      "stator_slot_winding: 66018e5d1cd3bd0d34536470\n",
      "stator_slot_potting: 6602fd41b8e866414fe983ec\n"
     ]
    }
   ],
   "source": [
    "our_machine = ltc_client.Machine(stator_parameters, rotor_parameters, winding_parameters)\n",
    "\n",
    "for key, value in our_machine.materials.items():\n",
    "    print(f\"{key}: {value}\")"
   ]
  },
  {
   "cell_type": "markdown",
   "metadata": {},
   "source": [
    "## Set up the simulation job\n",
    "The simulation job is made up of a `Machine`, the opperating points, and the simulation parameters.\n",
    "\n",
    "The Simulation Parameters control the length of the simulation and the number of transient timesteps. To calculate the ironloss we need to simulate over one full electrical period.   We also set the active length here as it is a 2d simulation. "
   ]
  },
  {
   "cell_type": "code",
   "execution_count": 12,
   "metadata": {},
   "outputs": [],
   "source": [
    "simulation_parameters = {\n",
    "       \"samples_per_electrical_period\": 180 * q.count/q.turn,\n",
    "        \"timestep_intervals\": 180 * q.count,\n",
    "        \"active_length\": 65 * q.mm }\n"
   ]
  },
  {
   "cell_type": "markdown",
   "metadata": {},
   "source": [
    "## Operating Point\n",
    "We will set off two simultanious simulation jobs, an open circut simulation with 0 current, and the nominal opperating point with a q axis current density of 6.23 $A/mm^{2}$.  We will have 2 simulation jobs"
   ]
  },
  {
   "cell_type": "code",
   "execution_count": 13,
   "metadata": {},
   "outputs": [],
   "source": [
    "op_open_cct = {\n",
    "    \"simulated_speed\": 2060 * q.rpm,\n",
    "    \"q_axis_current_density\": 0 * q.A / q.mm ** 2,\n",
    "    \"d_axis_current_density\": 0 * q.A / q.mm ** 2,\n",
    "    \"current_angle\": 0 * q.degrees\n",
    "    }\n",
    "\n",
    "op_nominal = {\n",
    "    'q_axis_current_density': 6.23 * q.A * q.mm**-2,\n",
    "    \"d_axis_current_density\": 0 * q.A / q.mm ** 2,\n",
    "    'current_angle': 255 * q.degrees,\n",
    "    \"simulated_speed\": 2060 * q.rpm\n",
    "    }"
   ]
  },
  {
   "cell_type": "code",
   "execution_count": 14,
   "metadata": {},
   "outputs": [],
   "source": [
    "# \n",
    "\n",
    "j1_open_cct = ltc_client.Job(our_machine, op_open_cct, simulation_parameters)\n",
    "\n",
    "j2_nominal = ltc_client.Job(our_machine, op_nominal, simulation_parameters)\n"
   ]
  },
  {
   "cell_type": "markdown",
   "metadata": {},
   "source": [
    "# Use the API to create and run the simulation job\n",
    "\n",
    "The flow of a job state is :\n",
    "\n",
    "* New: 0,\n",
    "* QueuedForMeshing: 10,\n",
    "* WaitingForMesh: 20,\n",
    "* QueuedForSimSetup: 21,\n",
    "* SimSetup: 22,\n",
    "* QueuedForMeshConversion: 25,\n",
    "* MeshConversion: 26,\n",
    "* QueuedForSolving: 30,\n",
    "* Solving: 40,\n",
    "* QueuedForPostProcess: 50,\n",
    "* PostProcess: 60,\n",
    "* Complete: 70,\n",
    "\n",
    "If a job encouters an error at any point, it is directed to a quarentined state\n",
    "* Quarantined: 80\n",
    "\n",
    "\n",
    "<div class=\"alert alert-block alert-info\">\n",
    "<b>Reusable artifacts</b> If the machine geometry is identical to one of your other machines, it will reuse the mesh, so that the results of different operating point simulations are comparable.  This is the case here so  the first job will create the mesh, the 2nd job will wait for the first job to be meshed, and then solve in parrallel.\n",
    "</div>"
   ]
  },
  {
   "cell_type": "code",
   "execution_count": 15,
   "metadata": {},
   "outputs": [
    {
     "name": "stderr",
     "output_type": "stream",
     "text": [
      "2024-07-05 10:41:10,258 - root - INFO - root_url: https://api.build.tinarmengineering.com\n"
     ]
    }
   ],
   "source": [
    "# Initalise the api\n",
    "api = ltc_client.Api(config[\"root_url\"], config[\"api_key\"], config[\"org_id\"])"
   ]
  },
  {
   "cell_type": "markdown",
   "metadata": {},
   "source": [
    "We will use the create_job api call. The Swagger documentation for the bare API calls is [here]( \n",
    "https://api.ltc.tinarmengineering.com/docs/index.html#/jobs/post_jobs). "
   ]
  },
  {
   "cell_type": "code",
   "execution_count": null,
   "metadata": {},
   "outputs": [],
   "source": []
  },
  {
   "cell_type": "code",
   "execution_count": 16,
   "metadata": {},
   "outputs": [
    {
     "name": "stdout",
     "output_type": "stream",
     "text": [
      "Job id, 6687b1a2c1f3993263f1d162, creation_date, 2024-07-05T08:41:06Z, status 0\n",
      "Job id, 6687b1a2c1f3993263f1d163, creation_date, 2024-07-05T08:41:06Z, status 0\n"
     ]
    }
   ],
   "source": [
    "\n",
    "\n",
    "j1_result = api.create_job(j1_open_cct)\n",
    "j2_result = api.create_job(j2_nominal)\n",
    "\n",
    "print('Job id, {id}, creation_date, {creation_date}, status {status}'.format(**j1_result))\n",
    "print('Job id, {id}, creation_date, {creation_date}, status {status}'.format(**j2_result))"
   ]
  },
  {
   "cell_type": "markdown",
   "metadata": {},
   "source": [
    "To start a job, we use the api call [`api.update_job_status(job_id, status)`](https://api.ltc.tinarmengineering.com/docs/index.html#/jobs/put_jobs__id__status__status_) and set the job status to `QueuedForMeshing` which is the value 10.  We use the dictionary `JOB_STATUS` as an enum.\n",
    "\n",
    "Once the job is running, we probably want to monitor it.  Later we will show how to use the websockets to get asyncronous job updates without polling, but for this example, we will poll with 10s interval, and wait untill both jobs are in the status\n",
    "`Completed` which has the value 70.\n",
    "\n",
    "<div class=\"alert alert-block alert-info\">\n",
    "<b>Polling is not good</b> Please don't be tempted to use polling, it is not a good practice.  We will show you how to use websockets to get asyncronous updates in the next example.\n",
    "</div>"
   ]
  },
  {
   "cell_type": "code",
   "execution_count": 17,
   "metadata": {},
   "outputs": [
    {
     "name": "stderr",
     "output_type": "stream",
     "text": [
      "2024-07-05 10:41:10,904 - root - INFO - Updating job status: https://api.build.tinarmengineering.com/jobs/6687b1a2c1f3993263f1d162/status/10?node_id=None&apikey=a43f7c7a2fc7bb4eab7a17a856230958&percentage_complete=None\n",
      "2024-07-05 10:41:11,099 - root - INFO - Updating job status: https://api.build.tinarmengineering.com/jobs/6687b1a2c1f3993263f1d163/status/10?node_id=None&apikey=a43f7c7a2fc7bb4eab7a17a856230958&percentage_complete=None\n"
     ]
    },
    {
     "name": "stdout",
     "output_type": "stream",
     "text": [
      "Job id= 6687b1a2c1f3993263f1d162, creation_date= 2024-07-05T08:41:06Z, status= 21\n",
      "Job id= 6687b1a2c1f3993263f1d163, creation_date= 2024-07-05T08:41:06Z, status= 21\n",
      "job 1 Solving \t job 2 MeshConversion\n",
      "job 1 Solving \t job 2 Solving\n",
      "job 1 Solving \t job 2 Solving\n",
      "job 1 Solving \t job 2 Solving\n",
      "job 1 Solving \t job 2 Solving\n",
      "job 1 Solving \t job 2 Solving\n",
      "job 1 Solving \t job 2 Solving\n",
      "job 1 Solving \t job 2 Solving\n",
      "job 1 Solving \t job 2 Solving\n",
      "job 1 Solving \t job 2 Solving\n",
      "job 1 Solving \t job 2 Solving\n",
      "job 1 Solving \t job 2 Solving\n",
      "job 1 Solving \t job 2 Solving\n",
      "job 1 Solving \t job 2 Solving\n",
      "job 1 Solving \t job 2 Solving\n",
      "job 1 Solving \t job 2 Solving\n",
      "job 1 Solving \t job 2 Solving\n",
      "job 1 Solving \t job 2 Solving\n",
      "job 1 Solving \t job 2 Solving\n",
      "job 1 Solving \t job 2 Solving\n",
      "job 1 PostProcess \t job 2 Solving\n",
      "job 1 PostProcess \t job 2 Solving\n",
      "job 1 PostProcess \t job 2 Solving\n",
      "job 1 PostProcess \t job 2 Solving\n",
      "job 1 PostProcess \t job 2 Solving\n",
      "job 1 PostProcess \t job 2 PostProcess\n",
      "job 1 PostProcess \t job 2 PostProcess\n",
      "job 1 Complete \t job 2 PostProcess\n",
      "job 1 Complete \t job 2 PostProcess\n",
      "job 1 Complete \t job 2 PostProcess\n"
     ]
    }
   ],
   "source": [
    "from ltc_client.api import STATUS_JOB, JOB_STATUS\n",
    "\n",
    "j1_result = api.update_job_status(j1_open_cct.id, JOB_STATUS['QueuedForMeshing'])\n",
    "j2_result = api.update_job_status(j2_nominal.id, JOB_STATUS['QueuedForMeshing'])\n",
    "\n",
    "print('Job id= {id}, creation_date= {creation_date}, status= {status}'.format(**j1_result))\n",
    "print('Job id= {id}, creation_date= {creation_date}, status= {status}'.format(**j2_result))\n",
    "\n",
    "while STATUS_JOB[api.get_job(j1_open_cct.id)['status']] != 'Complete' or STATUS_JOB[api.get_job(j2_nominal.id)['status']] != 'Complete':\n",
    "    print(\"job 1 {0} \\t job 2 {1}\".format(STATUS_JOB[api.get_job(j1_open_cct.id)['status']], STATUS_JOB[api.get_job(j2_nominal.id)['status']] ))\n",
    "    time.sleep(10)\n",
    "time.sleep(1)"
   ]
  },
  {
   "cell_type": "markdown",
   "metadata": {},
   "source": [
    "Both the simulations have now completed, (or they are `Quarentiend`, in which case the simple while loop in this example above is not going to terminate!). Assuming they completed, we can now access the results. \n",
    "# Accessing the results\n",
    "\n",
    "## Artifacts\n",
    "The results, configuration files are stored as artifacts against the Job.  Some of the artifacts remain on the solving cluster by default, other artifacts get promoted to an AWS s3 storage instance, and are accessable immediately. \n",
    "The artifacts that havn't been automatically promoted, can be promoted manually, which we will show in a later example. \n",
    "To see the artifacts stored against a job, get the job with the `api.get_job(job_id)` call, and look at the list of artifacts in the returned job. Each artifact has an type, id, and an url. If the url starts with `file://` it has not been promoted, (it is safely stored on the server), if it starts `https://` it is accessable at that url. "
   ]
  },
  {
   "cell_type": "code",
   "execution_count": 18,
   "metadata": {},
   "outputs": [
    {
     "name": "stdout",
     "output_type": "stream",
     "text": [
      "GMSH_MESH https://lonely-tool-cult-build.s3.eu-north-1.amazonaws.com/reusable_artifacts/1343067831/case.msh b3d719eaabdf67cfb5cfbe1c\n",
      "ELMER_SIF file://tae-cl00/app/job-data/jobs/6687b1a2c1f3993263f1d162/case.sif 657b138740afe25b373e92bd\n",
      "mesher_log file://tae-cl00/app/job-data/jobs/6687b1a2c1f3993263f1d162/mesher.log 40c3d429b78c98a64218e9fa\n",
      "VTU file https://lonely-tool-cult-build.s3.eu-north-1.amazonaws.com/jobs/6687b1a2c1f3993263f1d162/results/step_t0001.vtu 64234951da74e7b71fff1601\n",
      "solver_log file://tae-build/app/job-data/jobs/6687b1a2c1f3993263f1d162/solver.log 35c6f1e8b7698d643432f8ef\n",
      "RESULT_DATA https://lonely-tool-cult-build.s3.eu-north-1.amazonaws.com/jobs/6687b1a2c1f3993263f1d162/postprocess/ScalarData.csv b93f29b415495613d14f2ee7\n",
      "Torque Plot https://lonely-tool-cult-build.s3.eu-north-1.amazonaws.com/jobs/6687b1a2c1f3993263f1d162/postprocess/Torque.png ceb7e34208390ea0779c942f\n",
      "Currents Plot file://tae-build/app/job-data/jobs/6687b1a2c1f3993263f1d162/postprocess/Currents.png 84accf71b8a671e7615bec02\n",
      "Flux Linkage Plot file://tae-build/app/job-data/jobs/6687b1a2c1f3993263f1d162/postprocess/FluxLinkage.png 48bb533709b16229f89cd8ae\n",
      "Phase Voltage Plot file://tae-build/app/job-data/jobs/6687b1a2c1f3993263f1d162/postprocess/PhaseVoltage.png a4d3e15d5440ca54095ae24d\n",
      "Line Voltage Plot https://lonely-tool-cult-build.s3.eu-north-1.amazonaws.com/jobs/6687b1a2c1f3993263f1d162/postprocess/LineVoltage.png 539b5b1d6e4885b68bb6453c\n",
      "Flux Density Animation https://lonely-tool-cult-build.s3.eu-north-1.amazonaws.com/jobs/6687b1a2c1f3993263f1d162/postprocess/FluxPlot.gif 42e1776fdbf0b45d323c36e3\n",
      "postprocess_log file://tae-build/app/job-data/jobs/6687b1a2c1f3993263f1d162/postprocess.log d95b4cc85015b77ce1c95ffb\n"
     ]
    }
   ],
   "source": [
    "j1_result = api.get_job(j1_open_cct.id)\n",
    "for artifact in j1_result['artifacts']:\n",
    "    print(artifact['type'], artifact['url'], artifact['id'])"
   ]
  },
  {
   "cell_type": "markdown",
   "metadata": {},
   "source": [
    "\n",
    "### RESULT_DATA \n",
    "\n",
    "To get the `RESULT_DATA` file, which is a csv file with the scalar data saved, we can use the Python Data Analytics Library [Pandas](https://pandas.pydata.org/), (or Excell, etc.).  We have take care to put unambigious units into the csv file.  These can be accessed with Pint-Pandas as in the following example\n",
    "\n"
   ]
  },
  {
   "cell_type": "code",
   "execution_count": 19,
   "metadata": {},
   "outputs": [],
   "source": [
    "\n",
    "j1_result_data = [art for art in j1_result['artifacts'] if art['type']=='RESULT_DATA'][0]\n",
    "j1_df = pd.read_csv(j1_result_data['url'], header=[0, 1], index_col=[0, 1]).pint.quantify(level=-1)"
   ]
  },
  {
   "cell_type": "markdown",
   "metadata": {},
   "source": []
  },
  {
   "cell_type": "code",
   "execution_count": 20,
   "metadata": {},
   "outputs": [
    {
     "data": {
      "text/plain": [
       "Text(0.5, 1.0, 'Open Circuit back emf at 2060 rpm')"
      ]
     },
     "execution_count": 20,
     "metadata": {},
     "output_type": "execute_result"
    },
    {
     "data": {
      "image/png": "[encoded data removed]",
      "text/plain": [
       "<Figure size 640x480 with 1 Axes>"
      ]
     },
     "metadata": {},
     "output_type": "display_data"
    }
   ],
   "source": [
    "fig = plt.figure()\n",
    "ax = fig.add_subplot(111)\n",
    "ax.plot(j1_df['angles'], j1_df['Phase_0'], label='Phase_0')\n",
    "ax.plot(j1_df['angles'], j1_df['Phase_1'], label='Phase_1')\n",
    "ax.plot(j1_df['angles'], j1_df['Phase_2'], label='Phase_2')\n",
    "ax.legend()\n",
    "ax.set_title('Open Circuit back emf at {0:~P}'.format(j1_open_cct.operating_point['simulated_speed']))"
   ]
  },
  {
   "cell_type": "markdown",
   "metadata": {},
   "source": [
    "# Summary\n",
    "In this example we have:\n",
    "1. Created a configuration, either using Google colab secret storage, or a `configuaration.yaml` file.\n",
    "2. Created a `Machine` with a Stator, Rotor, and Winding using correct units\n",
    "3. Created two simulation `Jobs` with a `Machine`, an operating point, and simulation parameters,\n",
    "4. Created the Jobs on the solver, and started them.\n",
    "5. Waited for the simulation to finish,\n",
    "6. Retrieved and plotted the back emf waveform.\n",
    "\n",
    "This covers the very basics of using Tin Arm Engineering's machine solver API. \n"
   ]
  },
  {
   "cell_type": "code",
   "execution_count": null,
   "metadata": {},
   "outputs": [],
   "source": [
    "print(j2_nominal.id)"
   ]
  }
 ],
 "metadata": {
  "kernelspec": {
   "display_name": ".venv",
   "language": "python",
   "name": "python3"
  },
  "language_info": {
   "codemirror_mode": {
    "name": "ipython",
    "version": 3
   },
   "file_extension": ".py",
   "mimetype": "text/x-python",
   "name": "python",
   "nbconvert_exporter": "python",
   "pygments_lexer": "ipython3",
   "version": "3.12.4"
  }
 },
 "nbformat": 4,
 "nbformat_minor": 2
}
