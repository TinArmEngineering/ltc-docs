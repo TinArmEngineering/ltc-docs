{
 "cells": [
  {
   "cell_type": "code",
   "execution_count": 1,
   "metadata": {},
   "outputs": [],
   "source": [
    "try:\n",
    "    from google.colab import drive\n",
    "    #drive.mount('/content/drive')\n",
    "    IN_COLAB = True\n",
    "    with open('requirements.txt', 'w') as fout:\n",
    "        fout.write(\"\"\"ltc_client>=0.2.3\n",
    "        pint\n",
    "        pandas\n",
    "        pint-pandas\n",
    "        matplotlib\n",
    "        pyyaml\n",
    "        scipy\n",
    "        openpyxl\"\"\")\n",
    "except:\n",
    "    IN_COLAB = False\n"
   ]
  },
  {
   "cell_type": "code",
   "execution_count": 2,
   "metadata": {},
   "outputs": [],
   "source": [
    "%%capture --no-display\n",
    "%pip install -r requirements.txt\n",
    "%pip install --upgrade jupyter ipywidgets\n",
    "%jupyter nbextension enable --py widgetsnbextension"
   ]
  },
  {
   "cell_type": "code",
   "execution_count": 3,
   "metadata": {},
   "outputs": [
    {
     "data": {
      "text/html": [
       "<style>\n",
       ".cell-output-ipywidget-background {\n",
       "    background-color: transparent !important;\n",
       "}\n",
       ":root {\n",
       "    --jp-widgets-color: var(--vscode-editor-foreground);\n",
       "    --jp-widgets-font-size: var(--vscode-editor-font-size);\n",
       "}  \n",
       "</style>\n"
      ],
      "text/plain": [
       "<IPython.core.display.HTML object>"
      ]
     },
     "metadata": {},
     "output_type": "display_data"
    }
   ],
   "source": [
    "%%html\n",
    "<style>\n",
    ".cell-output-ipywidget-background {\n",
    "    background-color: transparent !important;\n",
    "}\n",
    ":root {\n",
    "    --jp-widgets-color: var(--vscode-editor-foreground);\n",
    "    --jp-widgets-font-size: var(--vscode-editor-font-size);\n",
    "}  \n",
    "</style>"
   ]
  },
  {
   "cell_type": "code",
   "execution_count": 4,
   "metadata": {},
   "outputs": [],
   "source": [
    "import matplotlib.pyplot as plt\n",
    "import ltc_client\n",
    "import logging\n",
    "import time\n",
    "import yaml\n",
    "import pandas as pd\n",
    "import pint_pandas\n",
    "import numpy as np"
   ]
  },
  {
   "cell_type": "markdown",
   "metadata": {},
   "source": [
    "# Example 2\n",
    "We assume you have followed Example 1, and have the correct configuration or secrests.\n"
   ]
  },
  {
   "cell_type": "code",
   "execution_count": 5,
   "metadata": {},
   "outputs": [
    {
     "name": "stdout",
     "output_type": "stream",
     "text": [
      "Running locally\n"
     ]
    }
   ],
   "source": [
    "# are we running in google colab?\n",
    "if IN_COLAB:\n",
    "    from google.colab import userdata\n",
    "    \n",
    "    print(\"Running in Google Colab\")\n",
    "    config = {'root_url': \"https://api.ltc.tinarmengineering.com\",\n",
    "              'queue_url':\"wss://queue.ltc.tinarmengineering.com:15671/ws\",\n",
    "              'api_key': userdata.get(\"api_key\"),\n",
    "              'org_id': userdata.get(\"org_id\"),\n",
    "              'queue_user': userdata.get(\"queue_user\"),\n",
    "              'queue_password': userdata.get(\"queue_password\")}\n",
    "else:\n",
    "    \n",
    "    print(\"Running locally\")\n",
    "    with open(\"configurations.yaml\", \"r\") as f:\n",
    "        config = yaml.safe_load(f)"
   ]
  },
  {
   "cell_type": "code",
   "execution_count": 6,
   "metadata": {},
   "outputs": [
    {
     "name": "stderr",
     "output_type": "stream",
     "text": [
      "2024-10-28 21:16:21,245 - root - INFO - tinarm version 0.2.3\n",
      "2024-10-28 21:16:21,246 - root - INFO - pint_pandas version 0.6\n",
      "2024-10-28 21:16:21,246 - root - INFO - pint_pandas version 0.6\n"
     ]
    }
   ],
   "source": [
    "LOGGING_LEVEL = logging.INFO\n",
    "### Configure Logging\n",
    "logger = logging.getLogger()\n",
    "logger.setLevel(LOGGING_LEVEL)\n",
    "ch = logging.StreamHandler()\n",
    "ch.setLevel(LOGGING_LEVEL)\n",
    "formatter = logging.Formatter('%(asctime)s - %(name)s - %(levelname)s - %(message)s')\n",
    "ch.setFormatter(formatter)\n",
    "logger.addHandler(ch)\n",
    "\n",
    "logger.info(f\"tinarm version {ltc_client.__version__}\")\n",
    "logger.info(f\"pint_pandas version {pint_pandas.__version__}\")\n",
    "\n",
    "q = pint_pandas.PintType.ureg\n",
    "q.setup_matplotlib()"
   ]
  },
  {
   "cell_type": "markdown",
   "metadata": {},
   "source": [
    "# Stator\n",
    "We are using the same machine as before. "
   ]
  },
  {
   "cell_type": "code",
   "execution_count": 7,
   "metadata": {},
   "outputs": [],
   "source": [
    "air_gap_length = 1 * q.mm\n",
    "\n",
    "stator_parameters = {\n",
    "    \"slot_liner_thickness\": 300 * q.um,\n",
    "    \"stator_bore\": 8.20 * q.cm,\n",
    "    \"tooth_tip_depth\": 1.5 * q.mm,\n",
    "    \"slot_opening\": 1.5 * q.mm,\n",
    "    \"tooth_width\": 9.8 * q.mm,\n",
    "    \"stator_outer_diameter\": 0.136 * q.m,\n",
    "    \"back_iron_thickness\": 5.5 * q.mm,\n",
    "    \"stator_internal_radius\": 500 * q.um,\n",
    "    \"number_slots\": 12 * q.count,\n",
    "    \"tooth_tip_angle\": 70 * q.degrees\n",
    "    }\n",
    "\n"
   ]
  },
  {
   "cell_type": "markdown",
   "metadata": {},
   "source": [
    "## Rotor\n",
    "Surface mounted Breadloaf magnets"
   ]
  },
  {
   "cell_type": "code",
   "execution_count": 8,
   "metadata": {},
   "outputs": [],
   "source": [
    "rotor_parameters = {\n",
    "    \"rotor_od\": stator_parameters[\"stator_bore\"] - 2 * air_gap_length,\n",
    "    \"rotor_bore\": 40 * q.mm,\n",
    "    \"banding_thickness\": 0.5 * q.mm,\n",
    "    \"number_poles\": 10 * q.count,\n",
    "    \"magnet_thickness\": 4.5 * q.millimeter,\n",
    "    \"magnet_pole_arc\": 150 * q.degrees,\n",
    "    \"magnet_inset\": 0.25 * q.millimeter\n",
    "    }"
   ]
  },
  {
   "cell_type": "markdown",
   "metadata": {},
   "source": [
    "## Simulation Parameters"
   ]
  },
  {
   "cell_type": "code",
   "execution_count": 9,
   "metadata": {},
   "outputs": [],
   "source": [
    "simulation_parameters = {\n",
    "       \"samples_per_electrical_period\": 90 * q.count/q.turn,\n",
    "        \"timestep_intervals\": 180 * q.count,\n",
    "        \"active_length\": 65 * q.mm}\n"
   ]
  },
  {
   "cell_type": "code",
   "execution_count": 10,
   "metadata": {},
   "outputs": [],
   "source": [
    "# calculate the GCD of the number of slots and the number of poles\n",
    "symmetry = np.gcd(stator_parameters[\"number_slots\"].magnitude, rotor_parameters[\"number_poles\"].magnitude) * q.count\n",
    "symmetry\n",
    "\n",
    "winding_parameters = {\n",
    "    \"symmetry\": symmetry,\n",
    "    \"number_phases\": 3 * q.count,\n",
    "    \"number_layers\": 2 * q.count,\n",
    "    \"coil_span\": 1 * q.count,\n",
    "    \"turns_per_coil\": 43 * q.count,\n",
    "    \"empty_slots\": 0 * q.count,\n",
    "    \"fill_factor\": 42 * q.percent\n",
    "    }"
   ]
  },
  {
   "cell_type": "code",
   "execution_count": 11,
   "metadata": {},
   "outputs": [],
   "source": [
    "materials = {\n",
    "    \"rotor_lamination\": \"66018e5d1cd3bd0d3453646f\",\n",
    "    \"rotor_magnet\": \"66018e5b1cd3bd0d3453646c\",\n",
    "    \"rotor_air_L\": \"6602fb42c4a87c305481e8a6\",\n",
    "    \"rotor_air_R\": \"6602fb42c4a87c305481e8a6\",\n",
    "    \"rotor_banding\": \"6602fb42c4a87c305481e8a6\",\n",
    "    \"stator_lamination\": \"66018e5d1cd3bd0d3453646f\",\n",
    "    \"stator_slot_wedge\": \"6602fb7239bfdea291a25dd7\",\n",
    "    \"stator_slot_liner\": \"6602fb5166d3c6adaa8ebe8c\",\n",
    "    \"stator_slot_winding\": \"66018e5d1cd3bd0d34536470\",\n",
    "    \"stator_slot_potting\": \"6602fd41b8e866414fe983ec\",\n",
    "}"
   ]
  },
  {
   "cell_type": "markdown",
   "metadata": {},
   "source": [
    "## Operating Point\n",
    "This time we are going to evaluate the performace over a grid of simulation parameters. For this case, q axis current densities from 0 to 10 $A/mm^2$, and current angles from 255 degrees to 300"
   ]
  },
  {
   "cell_type": "code",
   "execution_count": 12,
   "metadata": {},
   "outputs": [
    {
     "data": {
      "text/plain": [
       "(<Quantity([ 0.   2.5  5.   7.5 10.   0.   2.5  5.   7.5 10.   0.   2.5  5.   7.5\n",
       "  10.   0.   2.5  5.   7.5 10.   0.   2.5  5.   7.5 10. ], 'ampere / millimeter ** 2')>,\n",
       " <Quantity([  15.     15.     15.     15.     15.   1011.25 1011.25 1011.25 1011.25\n",
       "  1011.25 2007.5  2007.5  2007.5  2007.5  2007.5  3003.75 3003.75 3003.75\n",
       "  3003.75 3003.75 4000.   4000.   4000.   4000.   4000.  ], 'revolutions_per_minute')>)"
      ]
     },
     "execution_count": 12,
     "metadata": {},
     "output_type": "execute_result"
    }
   ],
   "source": [
    "\n",
    "\n",
    "q_current_density_grid, speed_grid = np.meshgrid(np.linspace(0, 10, 5) * q.A/q.mm**2, np.linspace(15, 4000.0, 5) * q.rpm)\n",
    "q_current_density_grid.reshape(-1), speed_grid.reshape(-1)"
   ]
  },
  {
   "cell_type": "code",
   "execution_count": 13,
   "metadata": {},
   "outputs": [],
   "source": [
    "operating_points = [{\n",
    "    'q_axis_current_density': j_q,\n",
    "    'd_axis_current_density': 0 * q.A/q.mm**2,\n",
    "    'current_angle': 255 * q.degrees,\n",
    "    \"simulated_speed\": omega_m,\n",
    "    } for j_q, omega_m in zip(q_current_density_grid.reshape(-1), speed_grid.reshape(-1))]\n",
    "\n"
   ]
  },
  {
   "cell_type": "code",
   "execution_count": 14,
   "metadata": {},
   "outputs": [],
   "source": [
    "import webstompy\n",
    "from websocket import create_connection"
   ]
  },
  {
   "cell_type": "markdown",
   "metadata": {},
   "source": [
    "# Asyncronously monitoring the Jobs.\n",
    "Make a websocket connection, and connect to the progress STOMP queue"
   ]
  },
  {
   "cell_type": "code",
   "execution_count": 15,
   "metadata": {},
   "outputs": [
    {
     "name": "stderr",
     "output_type": "stream",
     "text": [
      "2024-10-28 21:16:21,652 - webstompy.connection.StompConnection - INFO - New webstompy connection initializing. Starting receiver daemon.\n",
      "2024-10-28 21:16:21,683 - webstompy.connection.StompConnection - INFO - Connection successfully initialized.\n"
     ]
    },
    {
     "data": {
      "text/plain": [
       "<StompFrame: command=\"CONNECTED\", headers=\"['server:RabbitMQ/3.12.4', 'session:session-QoozHD12rHqSWe0eCpPKIA', 'heart-beat:0,0', 'version:1.1']\", message=\"b''\">"
      ]
     },
     "execution_count": 15,
     "metadata": {},
     "output_type": "execute_result"
    }
   ],
   "source": [
    "connection = webstompy.StompConnection(connector=create_connection(config[\"queue_url\"]))\n",
    "connection.connect(login=config[\"queue_user\"], passcode=config[\"queue_password\"])"
   ]
  },
  {
   "cell_type": "code",
   "execution_count": 16,
   "metadata": {},
   "outputs": [
    {
     "name": "stderr",
     "output_type": "stream",
     "text": [
      "2024-10-28 21:16:21,688 - root - INFO - root_url: https://api.ltc.tinarmengineering.com\n"
     ]
    }
   ],
   "source": [
    "api = ltc_client.Api(config[\"root_url\"], config[\"api_key\"], config[\"org_id\"])"
   ]
  },
  {
   "cell_type": "code",
   "execution_count": 17,
   "metadata": {},
   "outputs": [],
   "source": [
    "loggers = [logging.getLogger(name) for name in logging.root.manager.loggerDict]\n"
   ]
  },
  {
   "cell_type": "code",
   "execution_count": 18,
   "metadata": {},
   "outputs": [],
   "source": [
    "#The machine will stay the same in this example, so we can create it once and reuse it.\n",
    "our_machine = ltc_client.Machine(stator_parameters, rotor_parameters, winding_parameters, materials)\n",
    "# we actually only do this to get the title.  We could more easily just call the job what we want.\n",
    "auto_title = \"Example2\" #ltc_client.Job(our_machine, operating_points[0], simulation_parameters).generate_title()"
   ]
  },
  {
   "cell_type": "code",
   "execution_count": 19,
   "metadata": {},
   "outputs": [
    {
     "data": {
      "text/plain": [
       "'Example2-q0.0-A/mm²-d0.0-A/mm²-15.0-rpm'"
      ]
     },
     "execution_count": 19,
     "metadata": {},
     "output_type": "execute_result"
    }
   ],
   "source": [
    "'{title}-q{q_axis_current_density:2.4~P}-d{d_axis_current_density:2.4~P}-{simulated_speed:2.4~P}'.format(title=auto_title, **operating_points[0]).replace(\" \", \"-\")"
   ]
  },
  {
   "cell_type": "markdown",
   "metadata": {},
   "source": [
    "The Job object has a method `to_api()` which returns the json notation of the job that will be posted in the api call [`/jobs/post_jobs`](https://api.ltc.tinarmengineering.com/docs/index.html#/jobs/post_jobs)"
   ]
  },
  {
   "cell_type": "code",
   "execution_count": 20,
   "metadata": {},
   "outputs": [
    {
     "name": "stdout",
     "output_type": "stream",
     "text": [
      "{\n",
      "    \"status\": 0,\n",
      "    \"title\": \"quotidian-coherers\",\n",
      "    \"type\": \"electromagnetic_spmbrl_fscwseg\",\n",
      "    \"tasks\": 11,\n",
      "    \"data\": [\n",
      "        {\n",
      "            \"section\": \"operating_point\",\n",
      "            \"name\": \"q_axis_current_density\",\n",
      "            \"value\": {\n",
      "                \"magnitude\": [\n",
      "                    0.0\n",
      "                ],\n",
      "                \"shape\": [],\n",
      "                \"units\": [\n",
      "                    {\n",
      "                        \"name\": \"ampere\",\n",
      "                        \"exponent\": 1\n",
      "                    },\n",
      "                    {\n",
      "                        \"name\": \"millimeter\",\n",
      "                        \"exponent\": -2\n",
      "                    }\n",
      "                ]\n",
      "            }\n",
      "        },\n",
      "        {\n",
      "            \"section\": \"operating_point\",\n",
      "            \"name\": \"d_axis_current_density\",\n",
      "            \"value\": {\n",
      "                \"magnitude\": [\n",
      "                    0.0\n",
      "                ],\n",
      "                \"shape\": [\n",
      "                    1\n",
      "                ],\n",
      "                \"units\": [\n",
      "                    {\n",
      "                        \"name\": \"ampere\",\n",
      "                        \"exponent\": 1\n",
      "                    },\n",
      "                    {\n",
      "                        \"name\": \"millimeter\",\n",
      "                        \"exponent\": -2\n",
      "                    }\n",
      "                ]\n",
      "            }\n",
      "        },\n",
      "        {\n",
      "            \"section\": \"operating_point\",\n",
      "            \"name\": \"current_angle\",\n",
      "            \"value\": {\n",
      "                \"magnitude\": [\n",
      "                    255\n",
      "                ],\n",
      "                \"shape\": [\n",
      "                    1\n",
      "                ],\n",
      "                \"units\": [\n",
      "                    {\n",
      "                        \"name\": \"degree\",\n",
      "                        \"exponent\": 1\n",
      "                    }\n",
      "                ]\n",
      "            }\n",
      "        },\n",
      "        {\n",
      "            \"section\": \"operating_point\",\n",
      "            \"name\": \"simulated_speed\",\n",
      "            \"value\": {\n",
      "                \"magnitude\": [\n",
      "                    15.0\n",
      "                ],\n",
      "                \"shape\": [],\n",
      "                \"units\": [\n",
      "                    {\n",
      "                        \"name\": \"revolutions_per_minute\",\n",
      "                        \"exponent\": 1\n",
      "                    }\n",
      "                ]\n",
      "            }\n",
      "        },\n",
      "        {\n",
      "            \"section\": \"simulation\",\n",
      "            \"name\": \"samples_per_electrical_period\",\n",
      "            \"value\": {\n",
      "                \"magnitude\": [\n",
      "                    90.0\n",
      "                ],\n",
      "                \"shape\": [\n",
      "                    1\n",
      "                ],\n",
      "                \"units\": [\n",
      "                    {\n",
      "                        \"name\": \"count\",\n",
      "                        \"exponent\": 1\n",
      "                    },\n",
      "                    {\n",
      "                        \"name\": \"turn\",\n",
      "                        \"exponent\": -1\n",
      "                    }\n",
      "                ]\n",
      "            }\n",
      "        },\n",
      "        {\n",
      "            \"section\": \"simulation\",\n",
      "            \"name\": \"timestep_intervals\",\n",
      "            \"value\": {\n",
      "                \"magnitude\": [\n",
      "                    180\n",
      "                ],\n",
      "                \"shape\": [\n",
      "                    1\n",
      "                ],\n",
      "                \"units\": [\n",
      "                    {\n",
      "                        \"name\": \"count\",\n",
      "                        \"exponent\": 1\n",
      "                    }\n",
      "                ]\n",
      "            }\n",
      "        },\n",
      "        {\n",
      "            \"section\": \"simulation\",\n",
      "            \"name\": \"active_length\",\n",
      "            \"value\": {\n",
      "                \"magnitude\": [\n",
      "                    65\n",
      "                ],\n",
      "                \"shape\": [\n",
      "                    1\n",
      "                ],\n",
      "                \"units\": [\n",
      "                    {\n",
      "                        \"name\": \"millimeter\",\n",
      "                        \"exponent\": 1\n",
      "                    }\n",
      "                ]\n",
      "            }\n",
      "        },\n",
      "        {\n",
      "            \"section\": \"stator\",\n",
      "            \"name\": \"slot_liner_thickness\",\n",
      "            \"value\": {\n",
      "                \"magnitude\": [\n",
      "                    300\n",
      "                ],\n",
      "                \"shape\": [\n",
      "                    1\n",
      "                ],\n",
      "                \"units\": [\n",
      "                    {\n",
      "                        \"name\": \"micrometer\",\n",
      "                        \"exponent\": 1\n",
      "                    }\n",
      "                ]\n",
      "            }\n",
      "        },\n",
      "        {\n",
      "            \"section\": \"stator\",\n",
      "            \"name\": \"stator_bore\",\n",
      "            \"value\": {\n",
      "                \"magnitude\": [\n",
      "                    8.2\n",
      "                ],\n",
      "                \"shape\": [\n",
      "                    1\n",
      "                ],\n",
      "                \"units\": [\n",
      "                    {\n",
      "                        \"name\": \"centimeter\",\n",
      "                        \"exponent\": 1\n",
      "                    }\n",
      "                ]\n",
      "            }\n",
      "        },\n",
      "        {\n",
      "            \"section\": \"stator\",\n",
      "            \"name\": \"tooth_tip_depth\",\n",
      "            \"value\": {\n",
      "                \"magnitude\": [\n",
      "                    1.5\n",
      "                ],\n",
      "                \"shape\": [\n",
      "                    1\n",
      "                ],\n",
      "                \"units\": [\n",
      "                    {\n",
      "                        \"name\": \"millimeter\",\n",
      "                        \"exponent\": 1\n",
      "                    }\n",
      "                ]\n",
      "            }\n",
      "        },\n",
      "        {\n",
      "            \"section\": \"stator\",\n",
      "            \"name\": \"slot_opening\",\n",
      "            \"value\": {\n",
      "                \"magnitude\": [\n",
      "                    1.5\n",
      "                ],\n",
      "                \"shape\": [\n",
      "                    1\n",
      "                ],\n",
      "                \"units\": [\n",
      "                    {\n",
      "                        \"name\": \"millimeter\",\n",
      "                        \"exponent\": 1\n",
      "                    }\n",
      "                ]\n",
      "            }\n",
      "        },\n",
      "        {\n",
      "            \"section\": \"stator\",\n",
      "            \"name\": \"tooth_width\",\n",
      "            \"value\": {\n",
      "                \"magnitude\": [\n",
      "                    9.8\n",
      "                ],\n",
      "                \"shape\": [\n",
      "                    1\n",
      "                ],\n",
      "                \"units\": [\n",
      "                    {\n",
      "                        \"name\": \"millimeter\",\n",
      "                        \"exponent\": 1\n",
      "                    }\n",
      "                ]\n",
      "            }\n",
      "        },\n",
      "        {\n",
      "            \"section\": \"stator\",\n",
      "            \"name\": \"stator_outer_diameter\",\n",
      "            \"value\": {\n",
      "                \"magnitude\": [\n",
      "                    0.136\n",
      "                ],\n",
      "                \"shape\": [\n",
      "                    1\n",
      "                ],\n",
      "                \"units\": [\n",
      "                    {\n",
      "                        \"name\": \"meter\",\n",
      "                        \"exponent\": 1\n",
      "                    }\n",
      "                ]\n",
      "            }\n",
      "        },\n",
      "        {\n",
      "            \"section\": \"stator\",\n",
      "            \"name\": \"back_iron_thickness\",\n",
      "            \"value\": {\n",
      "                \"magnitude\": [\n",
      "                    5.5\n",
      "                ],\n",
      "                \"shape\": [\n",
      "                    1\n",
      "                ],\n",
      "                \"units\": [\n",
      "                    {\n",
      "                        \"name\": \"millimeter\",\n",
      "                        \"exponent\": 1\n",
      "                    }\n",
      "                ]\n",
      "            }\n",
      "        },\n",
      "        {\n",
      "            \"section\": \"stator\",\n",
      "            \"name\": \"stator_internal_radius\",\n",
      "            \"value\": {\n",
      "                \"magnitude\": [\n",
      "                    500\n",
      "                ],\n",
      "                \"shape\": [\n",
      "                    1\n",
      "                ],\n",
      "                \"units\": [\n",
      "                    {\n",
      "                        \"name\": \"micrometer\",\n",
      "                        \"exponent\": 1\n",
      "                    }\n",
      "                ]\n",
      "            }\n",
      "        },\n",
      "        {\n",
      "            \"section\": \"stator\",\n",
      "            \"name\": \"number_slots\",\n",
      "            \"value\": {\n",
      "                \"magnitude\": [\n",
      "                    12\n",
      "                ],\n",
      "                \"shape\": [\n",
      "                    1\n",
      "                ],\n",
      "                \"units\": [\n",
      "                    {\n",
      "                        \"name\": \"count\",\n",
      "                        \"exponent\": 1\n",
      "                    }\n",
      "                ]\n",
      "            }\n",
      "        },\n",
      "        {\n",
      "            \"section\": \"stator\",\n",
      "            \"name\": \"tooth_tip_angle\",\n",
      "            \"value\": {\n",
      "                \"magnitude\": [\n",
      "                    70\n",
      "                ],\n",
      "                \"shape\": [\n",
      "                    1\n",
      "                ],\n",
      "                \"units\": [\n",
      "                    {\n",
      "                        \"name\": \"degree\",\n",
      "                        \"exponent\": 1\n",
      "                    }\n",
      "                ]\n",
      "            }\n",
      "        },\n",
      "        {\n",
      "            \"section\": \"rotor\",\n",
      "            \"name\": \"rotor_od\",\n",
      "            \"value\": {\n",
      "                \"magnitude\": [\n",
      "                    7.999999999999999\n",
      "                ],\n",
      "                \"shape\": [\n",
      "                    1\n",
      "                ],\n",
      "                \"units\": [\n",
      "                    {\n",
      "                        \"name\": \"centimeter\",\n",
      "                        \"exponent\": 1\n",
      "                    }\n",
      "                ]\n",
      "            }\n",
      "        },\n",
      "        {\n",
      "            \"section\": \"rotor\",\n",
      "            \"name\": \"rotor_bore\",\n",
      "            \"value\": {\n",
      "                \"magnitude\": [\n",
      "                    40\n",
      "                ],\n",
      "                \"shape\": [\n",
      "                    1\n",
      "                ],\n",
      "                \"units\": [\n",
      "                    {\n",
      "                        \"name\": \"millimeter\",\n",
      "                        \"exponent\": 1\n",
      "                    }\n",
      "                ]\n",
      "            }\n",
      "        },\n",
      "        {\n",
      "            \"section\": \"rotor\",\n",
      "            \"name\": \"banding_thickness\",\n",
      "            \"value\": {\n",
      "                \"magnitude\": [\n",
      "                    0.5\n",
      "                ],\n",
      "                \"shape\": [\n",
      "                    1\n",
      "                ],\n",
      "                \"units\": [\n",
      "                    {\n",
      "                        \"name\": \"millimeter\",\n",
      "                        \"exponent\": 1\n",
      "                    }\n",
      "                ]\n",
      "            }\n",
      "        },\n",
      "        {\n",
      "            \"section\": \"rotor\",\n",
      "            \"name\": \"number_poles\",\n",
      "            \"value\": {\n",
      "                \"magnitude\": [\n",
      "                    10\n",
      "                ],\n",
      "                \"shape\": [\n",
      "                    1\n",
      "                ],\n",
      "                \"units\": [\n",
      "                    {\n",
      "                        \"name\": \"count\",\n",
      "                        \"exponent\": 1\n",
      "                    }\n",
      "                ]\n",
      "            }\n",
      "        },\n",
      "        {\n",
      "            \"section\": \"rotor\",\n",
      "            \"name\": \"magnet_thickness\",\n",
      "            \"value\": {\n",
      "                \"magnitude\": [\n",
      "                    4.5\n",
      "                ],\n",
      "                \"shape\": [\n",
      "                    1\n",
      "                ],\n",
      "                \"units\": [\n",
      "                    {\n",
      "                        \"name\": \"millimeter\",\n",
      "                        \"exponent\": 1\n",
      "                    }\n",
      "                ]\n",
      "            }\n",
      "        },\n",
      "        {\n",
      "            \"section\": \"rotor\",\n",
      "            \"name\": \"magnet_pole_arc\",\n",
      "            \"value\": {\n",
      "                \"magnitude\": [\n",
      "                    150\n",
      "                ],\n",
      "                \"shape\": [\n",
      "                    1\n",
      "                ],\n",
      "                \"units\": [\n",
      "                    {\n",
      "                        \"name\": \"degree\",\n",
      "                        \"exponent\": 1\n",
      "                    }\n",
      "                ]\n",
      "            }\n",
      "        },\n",
      "        {\n",
      "            \"section\": \"rotor\",\n",
      "            \"name\": \"magnet_inset\",\n",
      "            \"value\": {\n",
      "                \"magnitude\": [\n",
      "                    0.25\n",
      "                ],\n",
      "                \"shape\": [\n",
      "                    1\n",
      "                ],\n",
      "                \"units\": [\n",
      "                    {\n",
      "                        \"name\": \"millimeter\",\n",
      "                        \"exponent\": 1\n",
      "                    }\n",
      "                ]\n",
      "            }\n",
      "        },\n",
      "        {\n",
      "            \"section\": \"winding\",\n",
      "            \"name\": \"symmetry\",\n",
      "            \"value\": {\n",
      "                \"magnitude\": [\n",
      "                    2\n",
      "                ],\n",
      "                \"shape\": [],\n",
      "                \"units\": [\n",
      "                    {\n",
      "                        \"name\": \"count\",\n",
      "                        \"exponent\": 1\n",
      "                    }\n",
      "                ]\n",
      "            }\n",
      "        },\n",
      "        {\n",
      "            \"section\": \"winding\",\n",
      "            \"name\": \"number_phases\",\n",
      "            \"value\": {\n",
      "                \"magnitude\": [\n",
      "                    3\n",
      "                ],\n",
      "                \"shape\": [\n",
      "                    1\n",
      "                ],\n",
      "                \"units\": [\n",
      "                    {\n",
      "                        \"name\": \"count\",\n",
      "                        \"exponent\": 1\n",
      "                    }\n",
      "                ]\n",
      "            }\n",
      "        },\n",
      "        {\n",
      "            \"section\": \"winding\",\n",
      "            \"name\": \"number_layers\",\n",
      "            \"value\": {\n",
      "                \"magnitude\": [\n",
      "                    2\n",
      "                ],\n",
      "                \"shape\": [\n",
      "                    1\n",
      "                ],\n",
      "                \"units\": [\n",
      "                    {\n",
      "                        \"name\": \"count\",\n",
      "                        \"exponent\": 1\n",
      "                    }\n",
      "                ]\n",
      "            }\n",
      "        },\n",
      "        {\n",
      "            \"section\": \"winding\",\n",
      "            \"name\": \"coil_span\",\n",
      "            \"value\": {\n",
      "                \"magnitude\": [\n",
      "                    1\n",
      "                ],\n",
      "                \"shape\": [\n",
      "                    1\n",
      "                ],\n",
      "                \"units\": [\n",
      "                    {\n",
      "                        \"name\": \"count\",\n",
      "                        \"exponent\": 1\n",
      "                    }\n",
      "                ]\n",
      "            }\n",
      "        },\n",
      "        {\n",
      "            \"section\": \"winding\",\n",
      "            \"name\": \"turns_per_coil\",\n",
      "            \"value\": {\n",
      "                \"magnitude\": [\n",
      "                    43\n",
      "                ],\n",
      "                \"shape\": [\n",
      "                    1\n",
      "                ],\n",
      "                \"units\": [\n",
      "                    {\n",
      "                        \"name\": \"count\",\n",
      "                        \"exponent\": 1\n",
      "                    }\n",
      "                ]\n",
      "            }\n",
      "        },\n",
      "        {\n",
      "            \"section\": \"winding\",\n",
      "            \"name\": \"empty_slots\",\n",
      "            \"value\": {\n",
      "                \"magnitude\": [\n",
      "                    0\n",
      "                ],\n",
      "                \"shape\": [\n",
      "                    1\n",
      "                ],\n",
      "                \"units\": [\n",
      "                    {\n",
      "                        \"name\": \"count\",\n",
      "                        \"exponent\": 1\n",
      "                    }\n",
      "                ]\n",
      "            }\n",
      "        },\n",
      "        {\n",
      "            \"section\": \"winding\",\n",
      "            \"name\": \"fill_factor\",\n",
      "            \"value\": {\n",
      "                \"magnitude\": [\n",
      "                    42\n",
      "                ],\n",
      "                \"shape\": [\n",
      "                    1\n",
      "                ],\n",
      "                \"units\": [\n",
      "                    {\n",
      "                        \"name\": \"percent\",\n",
      "                        \"exponent\": 1\n",
      "                    }\n",
      "                ]\n",
      "            }\n",
      "        }\n",
      "    ],\n",
      "    \"materials\": [\n",
      "        {\n",
      "            \"part\": \"rotor_lamination\",\n",
      "            \"material_id\": \"66018e5d1cd3bd0d3453646f\"\n",
      "        },\n",
      "        {\n",
      "            \"part\": \"rotor_magnet\",\n",
      "            \"material_id\": \"66018e5b1cd3bd0d3453646c\"\n",
      "        },\n",
      "        {\n",
      "            \"part\": \"rotor_air_L\",\n",
      "            \"material_id\": \"6602fb42c4a87c305481e8a6\"\n",
      "        },\n",
      "        {\n",
      "            \"part\": \"rotor_air_R\",\n",
      "            \"material_id\": \"6602fb42c4a87c305481e8a6\"\n",
      "        },\n",
      "        {\n",
      "            \"part\": \"rotor_banding\",\n",
      "            \"material_id\": \"6602fb42c4a87c305481e8a6\"\n",
      "        },\n",
      "        {\n",
      "            \"part\": \"stator_lamination\",\n",
      "            \"material_id\": \"66018e5d1cd3bd0d3453646f\"\n",
      "        },\n",
      "        {\n",
      "            \"part\": \"stator_slot_wedge\",\n",
      "            \"material_id\": \"6602fb7239bfdea291a25dd7\"\n",
      "        },\n",
      "        {\n",
      "            \"part\": \"stator_slot_liner\",\n",
      "            \"material_id\": \"6602fb5166d3c6adaa8ebe8c\"\n",
      "        },\n",
      "        {\n",
      "            \"part\": \"stator_slot_winding\",\n",
      "            \"material_id\": \"66018e5d1cd3bd0d34536470\"\n",
      "        },\n",
      "        {\n",
      "            \"part\": \"stator_slot_potting\",\n",
      "            \"material_id\": \"6602fd41b8e866414fe983ec\"\n",
      "        }\n",
      "    ]\n",
      "}\n"
     ]
    }
   ],
   "source": [
    "import json\n",
    "\n",
    "# pretty print the json\n",
    "\n",
    "job_json = ltc_client.Job(our_machine, operating_points[0], simulation_parameters).to_api()\n",
    "print(json.dumps(job_json, indent=4))"
   ]
  },
  {
   "cell_type": "code",
   "execution_count": 21,
   "metadata": {},
   "outputs": [
    {
     "data": {
      "application/vnd.jupyter.widget-view+json": {
       "model_id": "6cb21304c4294079b903f88fef87e829",
       "version_major": 2,
       "version_minor": 0
      },
      "text/plain": [
       "Creating Jobs:   0%|          | 0/25 [00:00<?, ?it/s]"
      ]
     },
     "metadata": {},
     "output_type": "display_data"
    },
    {
     "name": "stdout",
     "output_type": "stream",
     "text": [
      "671ff117c2961589923033dc\n",
      "671ff117c2961589923033dd\n",
      "671ff117c2961589923033de\n",
      "671ff118c2961589923033df\n",
      "671ff118c2961589923033e0\n",
      "671ff119c2961589923033e1\n",
      "671ff119c2961589923033e2\n",
      "671ff11ac2961589923033e3\n",
      "671ff11ac2961589923033e4\n",
      "671ff11ac2961589923033e5\n",
      "671ff11bc2961589923033e6\n",
      "671ff11bc2961589923033e7\n",
      "671ff11cc2961589923033e8\n",
      "671ff11cc2961589923033e9\n",
      "671ff11dc2961589923033ea\n",
      "671ff11dc2961589923033eb\n",
      "671ff11dc2961589923033ec\n",
      "671ff11ec2961589923033ed\n",
      "671ff11ec2961589923033ee\n",
      "671ff11fc2961589923033ef\n",
      "671ff11fc2961589923033f0\n",
      "671ff120c2961589923033f1\n",
      "671ff120c2961589923033f2\n",
      "671ff120c2961589923033f3\n",
      "671ff121c2961589923033f4\n"
     ]
    }
   ],
   "source": [
    "jobs = [ltc_client.Job(our_machine, op, simulation_parameters,\n",
    "        title='{title}-q{q_axis_current_density:2.4~P}-d{d_axis_current_density:2.4~P}-{simulated_speed:2.4~P}'.format(title=auto_title, **op).replace(\" \", \"-\")) for op in operating_points]\n",
    "\n",
    "from tqdm.auto import trange, tqdm\n",
    "from tqdm.asyncio import tqdm as asytqdm\n",
    "from tqdm.contrib.logging import logging_redirect_tqdm\n",
    "\n",
    "with logging_redirect_tqdm(loggers):\n",
    "    for job in tqdm(jobs, desc=\"Creating Jobs\"):\n",
    "        jobs_result = api.create_job(job) \n",
    "        tqdm.write(job.id)\n"
   ]
  },
  {
   "cell_type": "code",
   "execution_count": 22,
   "metadata": {},
   "outputs": [],
   "source": [
    "from ltc_client.helpers import async_job_monitor\n",
    "async def main():\n",
    "    tasks = [async_job_monitor(api, job, connection=connection, position=idx + 1) for idx,job in enumerate(jobs)] \n",
    "    with logging_redirect_tqdm(loggers):\n",
    "        for f in tqdm.as_completed(tasks, total=len(tasks), unit=\"Jobs\", desc=\"Jobs\", position=0):\n",
    "            result = await f  # Wait for the task to complete\n"
   ]
  },
  {
   "cell_type": "code",
   "execution_count": null,
   "metadata": {},
   "outputs": [],
   "source": []
  },
  {
   "cell_type": "code",
   "execution_count": null,
   "metadata": {},
   "outputs": [
    {
     "data": {
      "application/vnd.jupyter.widget-view+json": {
       "model_id": "f36d65c740ed483185fcc8aacdd99ffc",
       "version_major": 2,
       "version_minor": 0
      },
      "text/plain": [
       "Jobs:   0%|          | 0/25 [00:00<?, ?Jobs/s]"
      ]
     },
     "metadata": {},
     "output_type": "display_data"
    },
    {
     "name": "stderr",
     "output_type": "stream",
     "text": [
      "Adding listener ProgressListener to StompConnection.\n",
      "Adding listener ProgressListener to StompConnection.\n",
      "Adding listener ProgressListener to StompConnection.\n",
      "2024-10-28 21:16:33,877 - webstompy.connection.StompConnection - INFO - Adding listener ProgressListener to StompConnection.\n",
      "Subscribing to destination /topic/671ff11bc2961589923033e7.solver.*.progress.\n",
      "Subscribing to destination /topic/671ff11bc2961589923033e7.solver.*.progress.\n",
      "Subscribing to destination /topic/671ff11bc2961589923033e7.solver.*.progress.\n",
      "2024-10-28 21:16:33,878 - webstompy.connection.StompConnection - INFO - Subscribing to destination /topic/671ff11bc2961589923033e7.solver.*.progress.\n"
     ]
    },
    {
     "data": {
      "application/vnd.jupyter.widget-view+json": {
       "model_id": "53c770f0f98a434faa0600597240e31c",
       "version_major": 2,
       "version_minor": 0
      },
      "text/plain": [
       "Job Example2-q2.5-A/mm²-d0.0-A/mm²-2.008×10³-rpm:   0 / count%|          | 0/180 count [00:00<?, ?it/s]"
      ]
     },
     "metadata": {},
     "output_type": "display_data"
    },
    {
     "name": "stderr",
     "output_type": "stream",
     "text": [
      "2024-10-28 21:16:33,882 - root - INFO - Updating job status: https://api.ltc.tinarmengineering.com/jobs/671ff11bc2961589923033e7/status/10?node_id=None&apikey=3461e035c3e51bc2ada1c459226e63f9&percentage_complete=None\n",
      "Adding listener ProgressListener to StompConnection.\n",
      "Adding listener ProgressListener to StompConnection.\n",
      "Adding listener ProgressListener to StompConnection.\n",
      "2024-10-28 21:16:34,046 - webstompy.connection.StompConnection - INFO - Adding listener ProgressListener to StompConnection.\n",
      "Subscribing to destination /topic/671ff11fc2961589923033ef.solver.*.progress.\n",
      "Subscribing to destination /topic/671ff11fc2961589923033ef.solver.*.progress.\n",
      "Subscribing to destination /topic/671ff11fc2961589923033ef.solver.*.progress.\n",
      "2024-10-28 21:16:34,048 - webstompy.connection.StompConnection - INFO - Subscribing to destination /topic/671ff11fc2961589923033ef.solver.*.progress.\n"
     ]
    },
    {
     "data": {
      "application/vnd.jupyter.widget-view+json": {
       "model_id": "53e4981470904c3984664d565c9cf22d",
       "version_major": 2,
       "version_minor": 0
      },
      "text/plain": [
       "Job Example2-q10.0-A/mm²-d0.0-A/mm²-3.004×10³-rpm:   0 / count%|          | 0/180 count [00:00<?, ?it/s]"
      ]
     },
     "metadata": {},
     "output_type": "display_data"
    },
    {
     "name": "stderr",
     "output_type": "stream",
     "text": [
      "2024-10-28 21:16:34,053 - root - INFO - Updating job status: https://api.ltc.tinarmengineering.com/jobs/671ff11fc2961589923033ef/status/10?node_id=None&apikey=3461e035c3e51bc2ada1c459226e63f9&percentage_complete=None\n",
      "Adding listener ProgressListener to StompConnection.\n",
      "Adding listener ProgressListener to StompConnection.\n",
      "Adding listener ProgressListener to StompConnection.\n",
      "2024-10-28 21:16:34,224 - webstompy.connection.StompConnection - INFO - Adding listener ProgressListener to StompConnection.\n",
      "Subscribing to destination /topic/671ff118c2961589923033e0.solver.*.progress.\n",
      "Subscribing to destination /topic/671ff118c2961589923033e0.solver.*.progress.\n",
      "Subscribing to destination /topic/671ff118c2961589923033e0.solver.*.progress.\n",
      "2024-10-28 21:16:34,226 - webstompy.connection.StompConnection - INFO - Subscribing to destination /topic/671ff118c2961589923033e0.solver.*.progress.\n"
     ]
    },
    {
     "data": {
      "application/vnd.jupyter.widget-view+json": {
       "model_id": "910f01028c564659b3e8dcffd8f91274",
       "version_major": 2,
       "version_minor": 0
      },
      "text/plain": [
       "Job Example2-q10.0-A/mm²-d0.0-A/mm²-15.0-rpm:   0 / count%|          | 0/180 count [00:00<?, ?it/s]"
      ]
     },
     "metadata": {},
     "output_type": "display_data"
    },
    {
     "name": "stderr",
     "output_type": "stream",
     "text": [
      "2024-10-28 21:16:34,232 - root - INFO - Updating job status: https://api.ltc.tinarmengineering.com/jobs/671ff118c2961589923033e0/status/10?node_id=None&apikey=3461e035c3e51bc2ada1c459226e63f9&percentage_complete=None\n",
      "Adding listener ProgressListener to StompConnection.\n",
      "Adding listener ProgressListener to StompConnection.\n",
      "Adding listener ProgressListener to StompConnection.\n",
      "2024-10-28 21:16:34,392 - webstompy.connection.StompConnection - INFO - Adding listener ProgressListener to StompConnection.\n",
      "Subscribing to destination /topic/671ff11cc2961589923033e8.solver.*.progress.\n",
      "Subscribing to destination /topic/671ff11cc2961589923033e8.solver.*.progress.\n",
      "Subscribing to destination /topic/671ff11cc2961589923033e8.solver.*.progress.\n",
      "2024-10-28 21:16:34,394 - webstompy.connection.StompConnection - INFO - Subscribing to destination /topic/671ff11cc2961589923033e8.solver.*.progress.\n"
     ]
    },
    {
     "data": {
      "application/vnd.jupyter.widget-view+json": {
       "model_id": "f4abcf9b75fb4989a79c2659a2ad9b48",
       "version_major": 2,
       "version_minor": 0
      },
      "text/plain": [
       "Job Example2-q5.0-A/mm²-d0.0-A/mm²-2.008×10³-rpm:   0 / count%|          | 0/180 count [00:00<?, ?it/s]"
      ]
     },
     "metadata": {},
     "output_type": "display_data"
    },
    {
     "name": "stderr",
     "output_type": "stream",
     "text": [
      "2024-10-28 21:16:34,400 - root - INFO - Updating job status: https://api.ltc.tinarmengineering.com/jobs/671ff11cc2961589923033e8/status/10?node_id=None&apikey=3461e035c3e51bc2ada1c459226e63f9&percentage_complete=None\n",
      "Adding listener ProgressListener to StompConnection.\n",
      "Adding listener ProgressListener to StompConnection.\n",
      "Adding listener ProgressListener to StompConnection.\n",
      "2024-10-28 21:16:34,574 - webstompy.connection.StompConnection - INFO - Adding listener ProgressListener to StompConnection.\n",
      "Subscribing to destination /topic/671ff11fc2961589923033f0.solver.*.progress.\n",
      "Subscribing to destination /topic/671ff11fc2961589923033f0.solver.*.progress.\n",
      "Subscribing to destination /topic/671ff11fc2961589923033f0.solver.*.progress.\n",
      "2024-10-28 21:16:34,576 - webstompy.connection.StompConnection - INFO - Subscribing to destination /topic/671ff11fc2961589923033f0.solver.*.progress.\n"
     ]
    },
    {
     "data": {
      "application/vnd.jupyter.widget-view+json": {
       "model_id": "7f142104f36146729a4c94e3918f867c",
       "version_major": 2,
       "version_minor": 0
      },
      "text/plain": [
       "Job Example2-q0.0-A/mm²-d0.0-A/mm²-4×10³-rpm:   0 / count%|          | 0/180 count [00:00<?, ?it/s]"
      ]
     },
     "metadata": {},
     "output_type": "display_data"
    },
    {
     "name": "stderr",
     "output_type": "stream",
     "text": [
      "2024-10-28 21:16:34,581 - root - INFO - Updating job status: https://api.ltc.tinarmengineering.com/jobs/671ff11fc2961589923033f0/status/10?node_id=None&apikey=3461e035c3e51bc2ada1c459226e63f9&percentage_complete=None\n",
      "Adding listener ProgressListener to StompConnection.\n",
      "Adding listener ProgressListener to StompConnection.\n",
      "Adding listener ProgressListener to StompConnection.\n",
      "2024-10-28 21:16:34,760 - webstompy.connection.StompConnection - INFO - Adding listener ProgressListener to StompConnection.\n",
      "Subscribing to destination /topic/671ff119c2961589923033e1.solver.*.progress.\n",
      "Subscribing to destination /topic/671ff119c2961589923033e1.solver.*.progress.\n",
      "Subscribing to destination /topic/671ff119c2961589923033e1.solver.*.progress.\n",
      "2024-10-28 21:16:34,763 - webstompy.connection.StompConnection - INFO - Subscribing to destination /topic/671ff119c2961589923033e1.solver.*.progress.\n"
     ]
    },
    {
     "data": {
      "application/vnd.jupyter.widget-view+json": {
       "model_id": "73bf79f136054878a85a456034d79d33",
       "version_major": 2,
       "version_minor": 0
      },
      "text/plain": [
       "Job Example2-q0.0-A/mm²-d0.0-A/mm²-1.011×10³-rpm:   0 / count%|          | 0/180 count [00:00<?, ?it/s]"
      ]
     },
     "metadata": {},
     "output_type": "display_data"
    },
    {
     "name": "stderr",
     "output_type": "stream",
     "text": [
      "2024-10-28 21:16:34,769 - root - INFO - Updating job status: https://api.ltc.tinarmengineering.com/jobs/671ff119c2961589923033e1/status/10?node_id=None&apikey=3461e035c3e51bc2ada1c459226e63f9&percentage_complete=None\n",
      "Adding listener ProgressListener to StompConnection.\n",
      "Adding listener ProgressListener to StompConnection.\n",
      "Adding listener ProgressListener to StompConnection.\n",
      "2024-10-28 21:16:34,965 - webstompy.connection.StompConnection - INFO - Adding listener ProgressListener to StompConnection.\n",
      "Subscribing to destination /topic/671ff11cc2961589923033e9.solver.*.progress.\n",
      "Subscribing to destination /topic/671ff11cc2961589923033e9.solver.*.progress.\n",
      "Subscribing to destination /topic/671ff11cc2961589923033e9.solver.*.progress.\n",
      "2024-10-28 21:16:34,968 - webstompy.connection.StompConnection - INFO - Subscribing to destination /topic/671ff11cc2961589923033e9.solver.*.progress.\n"
     ]
    },
    {
     "data": {
      "application/vnd.jupyter.widget-view+json": {
       "model_id": "dfdaa057ecbf480cb6ffd009ff6fc7fa",
       "version_major": 2,
       "version_minor": 0
      },
      "text/plain": [
       "Job Example2-q7.5-A/mm²-d0.0-A/mm²-2.008×10³-rpm:   0 / count%|          | 0/180 count [00:00<?, ?it/s]"
      ]
     },
     "metadata": {},
     "output_type": "display_data"
    },
    {
     "name": "stderr",
     "output_type": "stream",
     "text": [
      "2024-10-28 21:16:34,975 - root - INFO - Updating job status: https://api.ltc.tinarmengineering.com/jobs/671ff11cc2961589923033e9/status/10?node_id=None&apikey=3461e035c3e51bc2ada1c459226e63f9&percentage_complete=None\n",
      "Adding listener ProgressListener to StompConnection.\n",
      "Adding listener ProgressListener to StompConnection.\n",
      "Adding listener ProgressListener to StompConnection.\n",
      "2024-10-28 21:16:35,157 - webstompy.connection.StompConnection - INFO - Adding listener ProgressListener to StompConnection.\n",
      "Subscribing to destination /topic/671ff120c2961589923033f1.solver.*.progress.\n",
      "Subscribing to destination /topic/671ff120c2961589923033f1.solver.*.progress.\n",
      "Subscribing to destination /topic/671ff120c2961589923033f1.solver.*.progress.\n",
      "2024-10-28 21:16:35,160 - webstompy.connection.StompConnection - INFO - Subscribing to destination /topic/671ff120c2961589923033f1.solver.*.progress.\n"
     ]
    },
    {
     "data": {
      "application/vnd.jupyter.widget-view+json": {
       "model_id": "c1a7d341c2da4d40b5b1a1cb4f107d9c",
       "version_major": 2,
       "version_minor": 0
      },
      "text/plain": [
       "Job Example2-q2.5-A/mm²-d0.0-A/mm²-4×10³-rpm:   0 / count%|          | 0/180 count [00:00<?, ?it/s]"
      ]
     },
     "metadata": {},
     "output_type": "display_data"
    },
    {
     "name": "stderr",
     "output_type": "stream",
     "text": [
      "2024-10-28 21:16:35,166 - root - INFO - Updating job status: https://api.ltc.tinarmengineering.com/jobs/671ff120c2961589923033f1/status/10?node_id=None&apikey=3461e035c3e51bc2ada1c459226e63f9&percentage_complete=None\n",
      "Adding listener ProgressListener to StompConnection.\n",
      "Adding listener ProgressListener to StompConnection.\n",
      "Adding listener ProgressListener to StompConnection.\n",
      "2024-10-28 21:16:35,341 - webstompy.connection.StompConnection - INFO - Adding listener ProgressListener to StompConnection.\n",
      "Subscribing to destination /topic/671ff119c2961589923033e2.solver.*.progress.\n",
      "Subscribing to destination /topic/671ff119c2961589923033e2.solver.*.progress.\n",
      "Subscribing to destination /topic/671ff119c2961589923033e2.solver.*.progress.\n",
      "2024-10-28 21:16:35,344 - webstompy.connection.StompConnection - INFO - Subscribing to destination /topic/671ff119c2961589923033e2.solver.*.progress.\n"
     ]
    },
    {
     "data": {
      "application/vnd.jupyter.widget-view+json": {
       "model_id": "ff06782401cc4d05932827b56672246a",
       "version_major": 2,
       "version_minor": 0
      },
      "text/plain": [
       "Job Example2-q2.5-A/mm²-d0.0-A/mm²-1.011×10³-rpm:   0 / count%|          | 0/180 count [00:00<?, ?it/s]"
      ]
     },
     "metadata": {},
     "output_type": "display_data"
    },
    {
     "name": "stderr",
     "output_type": "stream",
     "text": [
      "2024-10-28 21:16:35,350 - root - INFO - Updating job status: https://api.ltc.tinarmengineering.com/jobs/671ff119c2961589923033e2/status/10?node_id=None&apikey=3461e035c3e51bc2ada1c459226e63f9&percentage_complete=None\n",
      "Adding listener ProgressListener to StompConnection.\n",
      "Adding listener ProgressListener to StompConnection.\n",
      "Adding listener ProgressListener to StompConnection.\n",
      "2024-10-28 21:16:35,525 - webstompy.connection.StompConnection - INFO - Adding listener ProgressListener to StompConnection.\n",
      "Subscribing to destination /topic/671ff11dc2961589923033ea.solver.*.progress.\n",
      "Subscribing to destination /topic/671ff11dc2961589923033ea.solver.*.progress.\n",
      "Subscribing to destination /topic/671ff11dc2961589923033ea.solver.*.progress.\n",
      "2024-10-28 21:16:35,529 - webstompy.connection.StompConnection - INFO - Subscribing to destination /topic/671ff11dc2961589923033ea.solver.*.progress.\n"
     ]
    },
    {
     "data": {
      "application/vnd.jupyter.widget-view+json": {
       "model_id": "fc7fa400eb974ad486cd29aeb299d502",
       "version_major": 2,
       "version_minor": 0
      },
      "text/plain": [
       "Job Example2-q10.0-A/mm²-d0.0-A/mm²-2.008×10³-rpm:   0 / count%|          | 0/180 count [00:00<?, ?it/s]"
      ]
     },
     "metadata": {},
     "output_type": "display_data"
    },
    {
     "name": "stderr",
     "output_type": "stream",
     "text": [
      "2024-10-28 21:16:35,535 - root - INFO - Updating job status: https://api.ltc.tinarmengineering.com/jobs/671ff11dc2961589923033ea/status/10?node_id=None&apikey=3461e035c3e51bc2ada1c459226e63f9&percentage_complete=None\n",
      "Adding listener ProgressListener to StompConnection.\n",
      "Adding listener ProgressListener to StompConnection.\n",
      "Adding listener ProgressListener to StompConnection.\n",
      "2024-10-28 21:16:35,728 - webstompy.connection.StompConnection - INFO - Adding listener ProgressListener to StompConnection.\n",
      "Subscribing to destination /topic/671ff117c2961589923033dc.solver.*.progress.\n",
      "Subscribing to destination /topic/671ff117c2961589923033dc.solver.*.progress.\n",
      "Subscribing to destination /topic/671ff117c2961589923033dc.solver.*.progress.\n",
      "2024-10-28 21:16:35,732 - webstompy.connection.StompConnection - INFO - Subscribing to destination /topic/671ff117c2961589923033dc.solver.*.progress.\n"
     ]
    },
    {
     "data": {
      "application/vnd.jupyter.widget-view+json": {
       "model_id": "4daebe0f5cad42c28cdde28b052949e3",
       "version_major": 2,
       "version_minor": 0
      },
      "text/plain": [
       "Job Example2-q0.0-A/mm²-d0.0-A/mm²-15.0-rpm:   0 / count%|          | 0/180 count [00:00<?, ?it/s]"
      ]
     },
     "metadata": {},
     "output_type": "display_data"
    },
    {
     "name": "stderr",
     "output_type": "stream",
     "text": [
      "2024-10-28 21:16:35,739 - root - INFO - Updating job status: https://api.ltc.tinarmengineering.com/jobs/671ff117c2961589923033dc/status/10?node_id=None&apikey=3461e035c3e51bc2ada1c459226e63f9&percentage_complete=None\n",
      "Adding listener ProgressListener to StompConnection.\n",
      "Adding listener ProgressListener to StompConnection.\n",
      "Adding listener ProgressListener to StompConnection.\n",
      "2024-10-28 21:16:35,938 - webstompy.connection.StompConnection - INFO - Adding listener ProgressListener to StompConnection.\n",
      "Subscribing to destination /topic/671ff120c2961589923033f2.solver.*.progress.\n",
      "Subscribing to destination /topic/671ff120c2961589923033f2.solver.*.progress.\n",
      "Subscribing to destination /topic/671ff120c2961589923033f2.solver.*.progress.\n",
      "2024-10-28 21:16:35,942 - webstompy.connection.StompConnection - INFO - Subscribing to destination /topic/671ff120c2961589923033f2.solver.*.progress.\n"
     ]
    },
    {
     "data": {
      "application/vnd.jupyter.widget-view+json": {
       "model_id": "4a53ed5317c741bf8a9b4cd51e7d50d3",
       "version_major": 2,
       "version_minor": 0
      },
      "text/plain": [
       "Job Example2-q5.0-A/mm²-d0.0-A/mm²-4×10³-rpm:   0 / count%|          | 0/180 count [00:00<?, ?it/s]"
      ]
     },
     "metadata": {},
     "output_type": "display_data"
    },
    {
     "name": "stderr",
     "output_type": "stream",
     "text": [
      "2024-10-28 21:16:35,949 - root - INFO - Updating job status: https://api.ltc.tinarmengineering.com/jobs/671ff120c2961589923033f2/status/10?node_id=None&apikey=3461e035c3e51bc2ada1c459226e63f9&percentage_complete=None\n",
      "Adding listener ProgressListener to StompConnection.\n",
      "Adding listener ProgressListener to StompConnection.\n",
      "Adding listener ProgressListener to StompConnection.\n",
      "2024-10-28 21:16:36,165 - webstompy.connection.StompConnection - INFO - Adding listener ProgressListener to StompConnection.\n",
      "Subscribing to destination /topic/671ff11ac2961589923033e3.solver.*.progress.\n",
      "Subscribing to destination /topic/671ff11ac2961589923033e3.solver.*.progress.\n",
      "Subscribing to destination /topic/671ff11ac2961589923033e3.solver.*.progress.\n",
      "2024-10-28 21:16:36,169 - webstompy.connection.StompConnection - INFO - Subscribing to destination /topic/671ff11ac2961589923033e3.solver.*.progress.\n"
     ]
    },
    {
     "data": {
      "application/vnd.jupyter.widget-view+json": {
       "model_id": "ae5017b88d0c4f31803be5a337c23d8e",
       "version_major": 2,
       "version_minor": 0
      },
      "text/plain": [
       "Job Example2-q5.0-A/mm²-d0.0-A/mm²-1.011×10³-rpm:   0 / count%|          | 0/180 count [00:00<?, ?it/s]"
      ]
     },
     "metadata": {},
     "output_type": "display_data"
    },
    {
     "name": "stderr",
     "output_type": "stream",
     "text": [
      "2024-10-28 21:16:36,176 - root - INFO - Updating job status: https://api.ltc.tinarmengineering.com/jobs/671ff11ac2961589923033e3/status/10?node_id=None&apikey=3461e035c3e51bc2ada1c459226e63f9&percentage_complete=None\n",
      "Adding listener ProgressListener to StompConnection.\n",
      "Adding listener ProgressListener to StompConnection.\n",
      "Adding listener ProgressListener to StompConnection.\n",
      "2024-10-28 21:16:36,368 - webstompy.connection.StompConnection - INFO - Adding listener ProgressListener to StompConnection.\n",
      "Subscribing to destination /topic/671ff11dc2961589923033eb.solver.*.progress.\n",
      "Subscribing to destination /topic/671ff11dc2961589923033eb.solver.*.progress.\n",
      "Subscribing to destination /topic/671ff11dc2961589923033eb.solver.*.progress.\n",
      "2024-10-28 21:16:36,372 - webstompy.connection.StompConnection - INFO - Subscribing to destination /topic/671ff11dc2961589923033eb.solver.*.progress.\n"
     ]
    },
    {
     "data": {
      "application/vnd.jupyter.widget-view+json": {
       "model_id": "ea147de04add46bc85a9372ce07136af",
       "version_major": 2,
       "version_minor": 0
      },
      "text/plain": [
       "Job Example2-q0.0-A/mm²-d0.0-A/mm²-3.004×10³-rpm:   0 / count%|          | 0/180 count [00:00<?, ?it/s]"
      ]
     },
     "metadata": {},
     "output_type": "display_data"
    },
    {
     "name": "stderr",
     "output_type": "stream",
     "text": [
      "2024-10-28 21:16:36,379 - root - INFO - Updating job status: https://api.ltc.tinarmengineering.com/jobs/671ff11dc2961589923033eb/status/10?node_id=None&apikey=3461e035c3e51bc2ada1c459226e63f9&percentage_complete=None\n",
      "Adding listener ProgressListener to StompConnection.\n",
      "Adding listener ProgressListener to StompConnection.\n",
      "Adding listener ProgressListener to StompConnection.\n",
      "2024-10-28 21:16:36,562 - webstompy.connection.StompConnection - INFO - Adding listener ProgressListener to StompConnection.\n",
      "Subscribing to destination /topic/671ff120c2961589923033f3.solver.*.progress.\n",
      "Subscribing to destination /topic/671ff120c2961589923033f3.solver.*.progress.\n",
      "Subscribing to destination /topic/671ff120c2961589923033f3.solver.*.progress.\n",
      "2024-10-28 21:16:36,567 - webstompy.connection.StompConnection - INFO - Subscribing to destination /topic/671ff120c2961589923033f3.solver.*.progress.\n"
     ]
    },
    {
     "data": {
      "application/vnd.jupyter.widget-view+json": {
       "model_id": "a5d80cf1563d4686a94f3537172c9848",
       "version_major": 2,
       "version_minor": 0
      },
      "text/plain": [
       "Job Example2-q7.5-A/mm²-d0.0-A/mm²-4×10³-rpm:   0 / count%|          | 0/180 count [00:00<?, ?it/s]"
      ]
     },
     "metadata": {},
     "output_type": "display_data"
    },
    {
     "name": "stderr",
     "output_type": "stream",
     "text": [
      "2024-10-28 21:16:36,574 - root - INFO - Updating job status: https://api.ltc.tinarmengineering.com/jobs/671ff120c2961589923033f3/status/10?node_id=None&apikey=3461e035c3e51bc2ada1c459226e63f9&percentage_complete=None\n",
      "Adding listener ProgressListener to StompConnection.\n",
      "Adding listener ProgressListener to StompConnection.\n",
      "Adding listener ProgressListener to StompConnection.\n",
      "2024-10-28 21:16:36,758 - webstompy.connection.StompConnection - INFO - Adding listener ProgressListener to StompConnection.\n",
      "Subscribing to destination /topic/671ff11ac2961589923033e4.solver.*.progress.\n",
      "Subscribing to destination /topic/671ff11ac2961589923033e4.solver.*.progress.\n",
      "Subscribing to destination /topic/671ff11ac2961589923033e4.solver.*.progress.\n",
      "2024-10-28 21:16:36,762 - webstompy.connection.StompConnection - INFO - Subscribing to destination /topic/671ff11ac2961589923033e4.solver.*.progress.\n"
     ]
    },
    {
     "data": {
      "application/vnd.jupyter.widget-view+json": {
       "model_id": "36e753e2e9054790ae2f7ef4743a7199",
       "version_major": 2,
       "version_minor": 0
      },
      "text/plain": [
       "Job Example2-q7.5-A/mm²-d0.0-A/mm²-1.011×10³-rpm:   0 / count%|          | 0/180 count [00:00<?, ?it/s]"
      ]
     },
     "metadata": {},
     "output_type": "display_data"
    },
    {
     "name": "stderr",
     "output_type": "stream",
     "text": [
      "2024-10-28 21:16:36,769 - root - INFO - Updating job status: https://api.ltc.tinarmengineering.com/jobs/671ff11ac2961589923033e4/status/10?node_id=None&apikey=3461e035c3e51bc2ada1c459226e63f9&percentage_complete=None\n",
      "Adding listener ProgressListener to StompConnection.\n",
      "Adding listener ProgressListener to StompConnection.\n",
      "Adding listener ProgressListener to StompConnection.\n",
      "2024-10-28 21:16:36,941 - webstompy.connection.StompConnection - INFO - Adding listener ProgressListener to StompConnection.\n",
      "Subscribing to destination /topic/671ff11dc2961589923033ec.solver.*.progress.\n",
      "Subscribing to destination /topic/671ff11dc2961589923033ec.solver.*.progress.\n",
      "Subscribing to destination /topic/671ff11dc2961589923033ec.solver.*.progress.\n",
      "2024-10-28 21:16:36,946 - webstompy.connection.StompConnection - INFO - Subscribing to destination /topic/671ff11dc2961589923033ec.solver.*.progress.\n"
     ]
    },
    {
     "data": {
      "application/vnd.jupyter.widget-view+json": {
       "model_id": "7ff6babce758411c829fca8ed9da29a9",
       "version_major": 2,
       "version_minor": 0
      },
      "text/plain": [
       "Job Example2-q2.5-A/mm²-d0.0-A/mm²-3.004×10³-rpm:   0 / count%|          | 0/180 count [00:00<?, ?it/s]"
      ]
     },
     "metadata": {},
     "output_type": "display_data"
    },
    {
     "name": "stderr",
     "output_type": "stream",
     "text": [
      "2024-10-28 21:16:36,953 - root - INFO - Updating job status: https://api.ltc.tinarmengineering.com/jobs/671ff11dc2961589923033ec/status/10?node_id=None&apikey=3461e035c3e51bc2ada1c459226e63f9&percentage_complete=None\n",
      "Adding listener ProgressListener to StompConnection.\n",
      "Adding listener ProgressListener to StompConnection.\n",
      "Adding listener ProgressListener to StompConnection.\n",
      "2024-10-28 21:16:37,162 - webstompy.connection.StompConnection - INFO - Adding listener ProgressListener to StompConnection.\n",
      "Subscribing to destination /topic/671ff117c2961589923033dd.solver.*.progress.\n",
      "Subscribing to destination /topic/671ff117c2961589923033dd.solver.*.progress.\n",
      "Subscribing to destination /topic/671ff117c2961589923033dd.solver.*.progress.\n",
      "2024-10-28 21:16:37,167 - webstompy.connection.StompConnection - INFO - Subscribing to destination /topic/671ff117c2961589923033dd.solver.*.progress.\n"
     ]
    },
    {
     "data": {
      "application/vnd.jupyter.widget-view+json": {
       "model_id": "e28f621521594fc39beece107813fae5",
       "version_major": 2,
       "version_minor": 0
      },
      "text/plain": [
       "Job Example2-q2.5-A/mm²-d0.0-A/mm²-15.0-rpm:   0 / count%|          | 0/180 count [00:00<?, ?it/s]"
      ]
     },
     "metadata": {},
     "output_type": "display_data"
    },
    {
     "name": "stderr",
     "output_type": "stream",
     "text": [
      "2024-10-28 21:16:37,174 - root - INFO - Updating job status: https://api.ltc.tinarmengineering.com/jobs/671ff117c2961589923033dd/status/10?node_id=None&apikey=3461e035c3e51bc2ada1c459226e63f9&percentage_complete=None\n",
      "Adding listener ProgressListener to StompConnection.\n",
      "Adding listener ProgressListener to StompConnection.\n",
      "Adding listener ProgressListener to StompConnection.\n",
      "2024-10-28 21:16:37,357 - webstompy.connection.StompConnection - INFO - Adding listener ProgressListener to StompConnection.\n",
      "Subscribing to destination /topic/671ff121c2961589923033f4.solver.*.progress.\n",
      "Subscribing to destination /topic/671ff121c2961589923033f4.solver.*.progress.\n",
      "Subscribing to destination /topic/671ff121c2961589923033f4.solver.*.progress.\n",
      "2024-10-28 21:16:37,363 - webstompy.connection.StompConnection - INFO - Subscribing to destination /topic/671ff121c2961589923033f4.solver.*.progress.\n"
     ]
    },
    {
     "data": {
      "application/vnd.jupyter.widget-view+json": {
       "model_id": "2276fa94239b4fb7afb8811f913589fa",
       "version_major": 2,
       "version_minor": 0
      },
      "text/plain": [
       "Job Example2-q10.0-A/mm²-d0.0-A/mm²-4×10³-rpm:   0 / count%|          | 0/180 count [00:00<?, ?it/s]"
      ]
     },
     "metadata": {},
     "output_type": "display_data"
    },
    {
     "name": "stderr",
     "output_type": "stream",
     "text": [
      "2024-10-28 21:16:37,370 - root - INFO - Updating job status: https://api.ltc.tinarmengineering.com/jobs/671ff121c2961589923033f4/status/10?node_id=None&apikey=3461e035c3e51bc2ada1c459226e63f9&percentage_complete=None\n",
      "Adding listener ProgressListener to StompConnection.\n",
      "Adding listener ProgressListener to StompConnection.\n",
      "Adding listener ProgressListener to StompConnection.\n",
      "2024-10-28 21:16:37,570 - webstompy.connection.StompConnection - INFO - Adding listener ProgressListener to StompConnection.\n",
      "Subscribing to destination /topic/671ff11ac2961589923033e5.solver.*.progress.\n",
      "Subscribing to destination /topic/671ff11ac2961589923033e5.solver.*.progress.\n",
      "Subscribing to destination /topic/671ff11ac2961589923033e5.solver.*.progress.\n",
      "2024-10-28 21:16:37,575 - webstompy.connection.StompConnection - INFO - Subscribing to destination /topic/671ff11ac2961589923033e5.solver.*.progress.\n"
     ]
    },
    {
     "data": {
      "application/vnd.jupyter.widget-view+json": {
       "model_id": "86b27a27b01b4767abf14b1eb508a8c6",
       "version_major": 2,
       "version_minor": 0
      },
      "text/plain": [
       "Job Example2-q10.0-A/mm²-d0.0-A/mm²-1.011×10³-rpm:   0 / count%|          | 0/180 count [00:00<?, ?it/s]"
      ]
     },
     "metadata": {},
     "output_type": "display_data"
    },
    {
     "name": "stderr",
     "output_type": "stream",
     "text": [
      "2024-10-28 21:16:37,584 - root - INFO - Updating job status: https://api.ltc.tinarmengineering.com/jobs/671ff11ac2961589923033e5/status/10?node_id=None&apikey=3461e035c3e51bc2ada1c459226e63f9&percentage_complete=None\n",
      "Adding listener ProgressListener to StompConnection.\n",
      "Adding listener ProgressListener to StompConnection.\n",
      "Adding listener ProgressListener to StompConnection.\n",
      "2024-10-28 21:16:37,856 - webstompy.connection.StompConnection - INFO - Adding listener ProgressListener to StompConnection.\n",
      "Subscribing to destination /topic/671ff11ec2961589923033ed.solver.*.progress.\n",
      "Subscribing to destination /topic/671ff11ec2961589923033ed.solver.*.progress.\n",
      "Subscribing to destination /topic/671ff11ec2961589923033ed.solver.*.progress.\n",
      "2024-10-28 21:16:37,861 - webstompy.connection.StompConnection - INFO - Subscribing to destination /topic/671ff11ec2961589923033ed.solver.*.progress.\n"
     ]
    },
    {
     "data": {
      "application/vnd.jupyter.widget-view+json": {
       "model_id": "a5ee93c75f4c4ecca6f78d731262872f",
       "version_major": 2,
       "version_minor": 0
      },
      "text/plain": [
       "Job Example2-q5.0-A/mm²-d0.0-A/mm²-3.004×10³-rpm:   0 / count%|          | 0/180 count [00:00<?, ?it/s]"
      ]
     },
     "metadata": {},
     "output_type": "display_data"
    },
    {
     "name": "stderr",
     "output_type": "stream",
     "text": [
      "2024-10-28 21:16:37,869 - root - INFO - Updating job status: https://api.ltc.tinarmengineering.com/jobs/671ff11ec2961589923033ed/status/10?node_id=None&apikey=3461e035c3e51bc2ada1c459226e63f9&percentage_complete=None\n",
      "Adding listener ProgressListener to StompConnection.\n",
      "Adding listener ProgressListener to StompConnection.\n",
      "Adding listener ProgressListener to StompConnection.\n",
      "2024-10-28 21:16:38,154 - webstompy.connection.StompConnection - INFO - Adding listener ProgressListener to StompConnection.\n",
      "Subscribing to destination /topic/671ff117c2961589923033de.solver.*.progress.\n",
      "Subscribing to destination /topic/671ff117c2961589923033de.solver.*.progress.\n",
      "Subscribing to destination /topic/671ff117c2961589923033de.solver.*.progress.\n",
      "2024-10-28 21:16:38,160 - webstompy.connection.StompConnection - INFO - Subscribing to destination /topic/671ff117c2961589923033de.solver.*.progress.\n"
     ]
    },
    {
     "data": {
      "application/vnd.jupyter.widget-view+json": {
       "model_id": "158bbf2d962d438c943315fe2df0a866",
       "version_major": 2,
       "version_minor": 0
      },
      "text/plain": [
       "Job Example2-q5.0-A/mm²-d0.0-A/mm²-15.0-rpm:   0 / count%|          | 0/180 count [00:00<?, ?it/s]"
      ]
     },
     "metadata": {},
     "output_type": "display_data"
    },
    {
     "name": "stderr",
     "output_type": "stream",
     "text": [
      "2024-10-28 21:16:38,168 - root - INFO - Updating job status: https://api.ltc.tinarmengineering.com/jobs/671ff117c2961589923033de/status/10?node_id=None&apikey=3461e035c3e51bc2ada1c459226e63f9&percentage_complete=None\n",
      "Adding listener ProgressListener to StompConnection.\n",
      "Adding listener ProgressListener to StompConnection.\n",
      "Adding listener ProgressListener to StompConnection.\n",
      "2024-10-28 21:16:38,510 - webstompy.connection.StompConnection - INFO - Adding listener ProgressListener to StompConnection.\n",
      "Subscribing to destination /topic/671ff11bc2961589923033e6.solver.*.progress.\n",
      "Subscribing to destination /topic/671ff11bc2961589923033e6.solver.*.progress.\n",
      "Subscribing to destination /topic/671ff11bc2961589923033e6.solver.*.progress.\n",
      "2024-10-28 21:16:38,517 - webstompy.connection.StompConnection - INFO - Subscribing to destination /topic/671ff11bc2961589923033e6.solver.*.progress.\n"
     ]
    },
    {
     "data": {
      "application/vnd.jupyter.widget-view+json": {
       "model_id": "3f2194a44c994c23ae14cc15543fc858",
       "version_major": 2,
       "version_minor": 0
      },
      "text/plain": [
       "Job Example2-q0.0-A/mm²-d0.0-A/mm²-2.008×10³-rpm:   0 / count%|          | 0/180 count [00:00<?, ?it/s]"
      ]
     },
     "metadata": {},
     "output_type": "display_data"
    },
    {
     "name": "stderr",
     "output_type": "stream",
     "text": [
      "2024-10-28 21:16:38,525 - root - INFO - Updating job status: https://api.ltc.tinarmengineering.com/jobs/671ff11bc2961589923033e6/status/10?node_id=None&apikey=3461e035c3e51bc2ada1c459226e63f9&percentage_complete=None\n",
      "Adding listener ProgressListener to StompConnection.\n",
      "Adding listener ProgressListener to StompConnection.\n",
      "Adding listener ProgressListener to StompConnection.\n",
      "2024-10-28 21:16:38,826 - webstompy.connection.StompConnection - INFO - Adding listener ProgressListener to StompConnection.\n",
      "Subscribing to destination /topic/671ff11ec2961589923033ee.solver.*.progress.\n",
      "Subscribing to destination /topic/671ff11ec2961589923033ee.solver.*.progress.\n",
      "Subscribing to destination /topic/671ff11ec2961589923033ee.solver.*.progress.\n",
      "2024-10-28 21:16:38,833 - webstompy.connection.StompConnection - INFO - Subscribing to destination /topic/671ff11ec2961589923033ee.solver.*.progress.\n"
     ]
    },
    {
     "data": {
      "application/vnd.jupyter.widget-view+json": {
       "model_id": "2f33d392517547ec8250ff59e893bc2a",
       "version_major": 2,
       "version_minor": 0
      },
      "text/plain": [
       "Job Example2-q7.5-A/mm²-d0.0-A/mm²-3.004×10³-rpm:   0 / count%|          | 0/180 count [00:00<?, ?it/s]"
      ]
     },
     "metadata": {},
     "output_type": "display_data"
    },
    {
     "name": "stderr",
     "output_type": "stream",
     "text": [
      "2024-10-28 21:16:38,841 - root - INFO - Updating job status: https://api.ltc.tinarmengineering.com/jobs/671ff11ec2961589923033ee/status/10?node_id=None&apikey=3461e035c3e51bc2ada1c459226e63f9&percentage_complete=None\n",
      "Adding listener ProgressListener to StompConnection.\n",
      "Adding listener ProgressListener to StompConnection.\n",
      "Adding listener ProgressListener to StompConnection.\n",
      "2024-10-28 21:16:39,097 - webstompy.connection.StompConnection - INFO - Adding listener ProgressListener to StompConnection.\n",
      "Subscribing to destination /topic/671ff118c2961589923033df.solver.*.progress.\n",
      "Subscribing to destination /topic/671ff118c2961589923033df.solver.*.progress.\n",
      "Subscribing to destination /topic/671ff118c2961589923033df.solver.*.progress.\n",
      "2024-10-28 21:16:39,104 - webstompy.connection.StompConnection - INFO - Subscribing to destination /topic/671ff118c2961589923033df.solver.*.progress.\n"
     ]
    },
    {
     "data": {
      "application/vnd.jupyter.widget-view+json": {
       "model_id": "0787ae3c5d3a4529985a8d709ea37886",
       "version_major": 2,
       "version_minor": 0
      },
      "text/plain": [
       "Job Example2-q7.5-A/mm²-d0.0-A/mm²-15.0-rpm:   0 / count%|          | 0/180 count [00:00<?, ?it/s]"
      ]
     },
     "metadata": {},
     "output_type": "display_data"
    },
    {
     "name": "stderr",
     "output_type": "stream",
     "text": [
      "2024-10-28 21:16:39,113 - root - INFO - Updating job status: https://api.ltc.tinarmengineering.com/jobs/671ff118c2961589923033df/status/10?node_id=None&apikey=3461e035c3e51bc2ada1c459226e63f9&percentage_complete=None\n"
     ]
    }
   ],
   "source": [
    "import nest_asyncio\n",
    "import asyncio\n",
    "nest_asyncio.apply()\n",
    "\n",
    "asyncio.run(main())"
   ]
  },
  {
   "cell_type": "markdown",
   "metadata": {},
   "source": [
    "# Summary\n",
    "In this example we:\n",
    "1. made a batch of 25 simulations, \n",
    "2. made an asyncronus runner and websocket monitor for all 25 jobs,\n",
    "3. started and monitored all 25 jobs simultaniously."
   ]
  },
  {
   "cell_type": "code",
   "execution_count": null,
   "metadata": {},
   "outputs": [],
   "source": []
  }
 ],
 "metadata": {
  "kernelspec": {
   "display_name": ".venv",
   "language": "python",
   "name": "python3"
  },
  "language_info": {
   "codemirror_mode": {
    "name": "ipython",
    "version": 3
   },
   "file_extension": ".py",
   "mimetype": "text/x-python",
   "name": "python",
   "nbconvert_exporter": "python",
   "pygments_lexer": "ipython3",
   "version": "3.12.4"
  }
 },
 "nbformat": 4,
 "nbformat_minor": 2
}
