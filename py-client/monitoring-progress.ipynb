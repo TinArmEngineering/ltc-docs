{
 "cells": [
  {
   "cell_type": "markdown",
   "metadata": {},
   "source": [
    "<a target=\"_blank\" href=\"https://colab.research.google.com/github/TinArmEngineering/ltc-docs/blob/main/py-client/monitoring-progress.ipynb\">\n",
    "  <img src=\"https://colab.research.google.com/assets/colab-badge.svg\" alt=\"Open In Colab\"/>\n",
    "</a>"
   ]
  },
  {
   "cell_type": "code",
   "execution_count": null,
   "metadata": {},
   "outputs": [],
   "source": [
    "try:\n",
    "    from google.colab import drive\n",
    "    #drive.mount('/content/drive')\n",
    "    IN_COLAB = True\n",
    "    with open('requirements.txt', 'w') as fout:\n",
    "        fout.write(\"\"\"ltc_client>=0.2.3\n",
    "        pint\n",
    "        pandas\n",
    "        pint-pandas\n",
    "        matplotlib\n",
    "        pyyaml\n",
    "        scipy\n",
    "        openpyxl\"\"\")\n",
    "except:\n",
    "    IN_COLAB = False\n"
   ]
  },
  {
   "cell_type": "code",
   "execution_count": null,
   "metadata": {},
   "outputs": [],
   "source": [
    "%%capture --no-display\n",
    "%pip install -r requirements.txt\n",
    "%pip install --upgrade jupyter ipywidgets\n",
    "%jupyter nbextension enable --py widgetsnbextension"
   ]
  },
  {
   "cell_type": "code",
   "execution_count": null,
   "metadata": {},
   "outputs": [],
   "source": [
    "%%html\n",
    "<style>\n",
    ".cell-output-ipywidget-background {\n",
    "    background-color: transparent !important;\n",
    "}\n",
    ":root {\n",
    "    --jp-widgets-color: var(--vscode-editor-foreground);\n",
    "    --jp-widgets-font-size: var(--vscode-editor-font-size);\n",
    "}  \n",
    "</style>"
   ]
  },
  {
   "cell_type": "code",
   "execution_count": null,
   "metadata": {},
   "outputs": [],
   "source": [
    "import matplotlib.pyplot as plt\n",
    "import ltc_client\n",
    "import logging\n",
    "import time\n",
    "import yaml\n",
    "import pandas as pd\n",
    "import pint_pandas\n",
    "import numpy as np"
   ]
  },
  {
   "cell_type": "markdown",
   "metadata": {},
   "source": [
    "# Example 2\n",
    "We assume you have followed Example 1, and have the correct configuration or secrests.\n"
   ]
  },
  {
   "cell_type": "code",
   "execution_count": null,
   "metadata": {},
   "outputs": [],
   "source": [
    "# are we running in google colab?\n",
    "if IN_COLAB:\n",
    "    from google.colab import userdata\n",
    "    \n",
    "    print(\"Running in Google Colab\")\n",
    "    config = {'root_url': \"https://api.ltc.tinarmengineering.com\",\n",
    "              'queue_url':\"wss://queue.ltc.tinarmengineering.com:15671/ws\",\n",
    "              'api_key': userdata.get(\"api_key\"),\n",
    "              'org_id': userdata.get(\"org_id\"),\n",
    "              'queue_user': userdata.get(\"queue_user\"),\n",
    "              'queue_password': userdata.get(\"queue_password\")}\n",
    "else:\n",
    "    \n",
    "    print(\"Running locally\")\n",
    "    with open(\"configurations.yaml\", \"r\") as f:\n",
    "        config = yaml.safe_load(f)"
   ]
  },
  {
   "cell_type": "code",
   "execution_count": null,
   "metadata": {},
   "outputs": [],
   "source": [
    "LOGGING_LEVEL = logging.INFO\n",
    "### Configure Logging\n",
    "logger = logging.getLogger()\n",
    "logger.setLevel(LOGGING_LEVEL)\n",
    "ch = logging.StreamHandler()\n",
    "ch.setLevel(LOGGING_LEVEL)\n",
    "formatter = logging.Formatter('%(asctime)s - %(name)s - %(levelname)s - %(message)s')\n",
    "ch.setFormatter(formatter)\n",
    "logger.addHandler(ch)\n",
    "\n",
    "logger.info(f\"tinarm version {ltc_client.__version__}\")\n",
    "logger.info(f\"pint_pandas version {pint_pandas.__version__}\")\n",
    "\n",
    "q = pint_pandas.PintType.ureg\n",
    "q.setup_matplotlib()"
   ]
  },
  {
   "cell_type": "markdown",
   "metadata": {},
   "source": [
    "# Stator\n",
    "We are using the same machine as before. "
   ]
  },
  {
   "cell_type": "code",
   "execution_count": null,
   "metadata": {},
   "outputs": [],
   "source": [
    "air_gap_length = 1 * q.mm\n",
    "\n",
    "stator_parameters = {\n",
    "    \"slot_liner_thickness\": 300 * q.um,\n",
    "    \"stator_bore\": 8.20 * q.cm,\n",
    "    \"tooth_tip_depth\": 1.5 * q.mm,\n",
    "    \"slot_opening\": 1.5 * q.mm,\n",
    "    \"tooth_width\": 9.8 * q.mm,\n",
    "    \"stator_outer_diameter\": 0.136 * q.m,\n",
    "    \"back_iron_thickness\": 5.5 * q.mm,\n",
    "    \"stator_internal_radius\": 500 * q.um,\n",
    "    \"number_slots\": 12 * q.count,\n",
    "    \"tooth_tip_angle\": 70 * q.degrees\n",
    "    }\n",
    "\n"
   ]
  },
  {
   "cell_type": "markdown",
   "metadata": {},
   "source": [
    "## Rotor\n",
    "Surface mounted Breadloaf magnets"
   ]
  },
  {
   "cell_type": "code",
   "execution_count": null,
   "metadata": {},
   "outputs": [],
   "source": [
    "rotor_parameters = {\n",
    "    \"rotor_od\": stator_parameters[\"stator_bore\"] - 2 * air_gap_length,\n",
    "    \"rotor_bore\": 40 * q.mm,\n",
    "    \"banding_thickness\": 0.5 * q.mm,\n",
    "    \"number_poles\": 10 * q.count,\n",
    "    \"magnet_thickness\": 4.5 * q.millimeter,\n",
    "    \"magnet_pole_arc\": 150 * q.degrees,\n",
    "    \"magnet_inset\": 0.25 * q.millimeter\n",
    "    }"
   ]
  },
  {
   "cell_type": "markdown",
   "metadata": {},
   "source": [
    "## Simulation Parameters"
   ]
  },
  {
   "cell_type": "code",
   "execution_count": null,
   "metadata": {},
   "outputs": [],
   "source": [
    "simulation_parameters = {\n",
    "       \"samples_per_electrical_period\": 90 * q.count/q.turn,\n",
    "        \"timestep_intervals\": 180 * q.count,\n",
    "        \"active_length\": 65 * q.mm}\n"
   ]
  },
  {
   "cell_type": "code",
   "execution_count": null,
   "metadata": {},
   "outputs": [],
   "source": [
    "# calculate the GCD of the number of slots and the number of poles\n",
    "symmetry = np.gcd(stator_parameters[\"number_slots\"].magnitude, rotor_parameters[\"number_poles\"].magnitude) * q.count\n",
    "symmetry\n",
    "\n",
    "winding_parameters = {\n",
    "    \"symmetry\": symmetry,\n",
    "    \"number_phases\": 3 * q.count,\n",
    "    \"number_layers\": 2 * q.count,\n",
    "    \"coil_span\": 1 * q.count,\n",
    "    \"turns_per_coil\": 43 * q.count,\n",
    "    \"empty_slots\": 0 * q.count,\n",
    "    \"fill_factor\": 42 * q.percent\n",
    "    }"
   ]
  },
  {
   "cell_type": "code",
   "execution_count": null,
   "metadata": {},
   "outputs": [],
   "source": [
    "materials = {\n",
    "    \"rotor_lamination\": \"66018e5d1cd3bd0d3453646f\",\n",
    "    \"rotor_magnet\": \"66018e5b1cd3bd0d3453646c\",\n",
    "    \"rotor_air_L\": \"6602fb42c4a87c305481e8a6\",\n",
    "    \"rotor_air_R\": \"6602fb42c4a87c305481e8a6\",\n",
    "    \"rotor_banding\": \"6602fb42c4a87c305481e8a6\",\n",
    "    \"stator_lamination\": \"66018e5d1cd3bd0d3453646f\",\n",
    "    \"stator_slot_wedge\": \"6602fb7239bfdea291a25dd7\",\n",
    "    \"stator_slot_liner\": \"6602fb5166d3c6adaa8ebe8c\",\n",
    "    \"stator_slot_winding\": \"66018e5d1cd3bd0d34536470\",\n",
    "    \"stator_slot_potting\": \"6602fd41b8e866414fe983ec\",\n",
    "}"
   ]
  },
  {
   "cell_type": "markdown",
   "metadata": {},
   "source": [
    "## Operating Point\n",
    "This time we are going to evaluate the performace over a grid of simulation parameters. For this case, q axis current densities from 0 to 10 $A/mm^2$, and current angles from 255 degrees to 300"
   ]
  },
  {
   "cell_type": "code",
   "execution_count": null,
   "metadata": {},
   "outputs": [],
   "source": [
    "\n",
    "\n",
    "q_current_density_grid, speed_grid = np.meshgrid(np.linspace(0, 10, 5) * q.A/q.mm**2, np.linspace(15, 4000.0, 5) * q.rpm)\n",
    "q_current_density_grid.reshape(-1), speed_grid.reshape(-1)"
   ]
  },
  {
   "cell_type": "code",
   "execution_count": null,
   "metadata": {},
   "outputs": [],
   "source": [
    "operating_points = [{\n",
    "    'q_axis_current_density': j_q,\n",
    "    'd_axis_current_density': 0 * q.A/q.mm**2,\n",
    "    'current_angle': 255 * q.degrees,\n",
    "    \"simulated_speed\": omega_m,\n",
    "    } for j_q, omega_m in zip(q_current_density_grid.reshape(-1), speed_grid.reshape(-1))]\n",
    "\n"
   ]
  },
  {
   "cell_type": "code",
   "execution_count": null,
   "metadata": {},
   "outputs": [],
   "source": [
    "import webstompy\n",
    "from websocket import create_connection"
   ]
  },
  {
   "cell_type": "markdown",
   "metadata": {},
   "source": [
    "# Asyncronously monitoring the Jobs.\n",
    "Make a websocket connection, and connect to the progress STOMP queue"
   ]
  },
  {
   "cell_type": "code",
   "execution_count": null,
   "metadata": {},
   "outputs": [],
   "source": [
    "connection = webstompy.StompConnection(connector=create_connection(config[\"queue_url\"]))\n",
    "connection.connect(login=config[\"queue_user\"], passcode=config[\"queue_password\"])"
   ]
  },
  {
   "cell_type": "code",
   "execution_count": null,
   "metadata": {},
   "outputs": [],
   "source": [
    "api = ltc_client.Api(config[\"root_url\"], config[\"api_key\"], config[\"org_id\"])"
   ]
  },
  {
   "cell_type": "code",
   "execution_count": null,
   "metadata": {},
   "outputs": [],
   "source": [
    "loggers = [logging.getLogger(name) for name in logging.root.manager.loggerDict]\n"
   ]
  },
  {
   "cell_type": "code",
   "execution_count": null,
   "metadata": {},
   "outputs": [],
   "source": [
    "#The machine will stay the same in this example, so we can create it once and reuse it.\n",
    "our_machine = ltc_client.Machine(stator_parameters, rotor_parameters, winding_parameters, materials)\n",
    "# we actually only do this to get the title.  We could more easily just call the job what we want.\n",
    "auto_title = \"Example2\" #ltc_client.Job(our_machine, operating_points[0], simulation_parameters).generate_title()"
   ]
  },
  {
   "cell_type": "code",
   "execution_count": null,
   "metadata": {},
   "outputs": [],
   "source": [
    "'{title}-q{q_axis_current_density:2.4~P}-d{d_axis_current_density:2.4~P}-{simulated_speed:2.4~P}'.format(title=auto_title, **operating_points[0]).replace(\" \", \"-\")"
   ]
  },
  {
   "cell_type": "markdown",
   "metadata": {},
   "source": [
    "The Job object has a method `to_api()` which returns the json notation of the job that will be posted in the api call [`/jobs/post_jobs`](https://api.ltc.tinarmengineering.com/docs/index.html#/jobs/post_jobs)"
   ]
  },
  {
   "cell_type": "code",
   "execution_count": null,
   "metadata": {},
   "outputs": [],
   "source": [
    "import json\n",
    "\n",
    "# pretty print the json\n",
    "\n",
    "job_json = ltc_client.Job(our_machine, operating_points[0], simulation_parameters).to_api()\n",
    "print(json.dumps(job_json, indent=4))"
   ]
  },
  {
   "cell_type": "code",
   "execution_count": null,
   "metadata": {},
   "outputs": [],
   "source": [
    "jobs = [ltc_client.Job(our_machine, op, simulation_parameters,\n",
    "        title='{title}-q{q_axis_current_density:2.4~P}-d{d_axis_current_density:2.4~P}-{simulated_speed:2.4~P}'.format(title=auto_title, **op).replace(\" \", \"-\")) for op in operating_points]\n",
    "\n",
    "from tqdm.auto import trange, tqdm\n",
    "from tqdm.asyncio import tqdm as asytqdm\n",
    "from tqdm.contrib.logging import logging_redirect_tqdm\n",
    "\n",
    "with logging_redirect_tqdm(loggers):\n",
    "    for job in tqdm(jobs, desc=\"Creating Jobs\"):\n",
    "        jobs_result = api.create_job(job) \n",
    "        tqdm.write(job.id)\n"
   ]
  },
  {
   "cell_type": "code",
   "execution_count": null,
   "metadata": {},
   "outputs": [],
   "source": [
    "from ltc_client.helpers import async_job_monitor\n",
    "async def main():\n",
    "    tasks = [async_job_monitor(api, job, connection=connection, position=idx + 1) for idx,job in enumerate(jobs)] \n",
    "    with logging_redirect_tqdm(loggers):\n",
    "        for f in tqdm.as_completed(tasks, total=len(tasks), unit=\"Jobs\", desc=\"Jobs\", position=0):\n",
    "            result = await f  # Wait for the task to complete\n"
   ]
  },
  {
   "cell_type": "code",
   "execution_count": null,
   "metadata": {},
   "outputs": [],
   "source": []
  },
  {
   "cell_type": "code",
   "execution_count": null,
   "metadata": {},
   "outputs": [],
   "source": [
    "import nest_asyncio\n",
    "import asyncio\n",
    "nest_asyncio.apply()\n",
    "\n",
    "asyncio.run(main())"
   ]
  },
  {
   "cell_type": "markdown",
   "metadata": {},
   "source": [
    "# Summary\n",
    "In this example we:\n",
    "1. made a batch of 25 simulations, \n",
    "2. made an asyncronus runner and websocket monitor for all 25 jobs,\n",
    "3. started and monitored all 25 jobs simultaniously."
   ]
  },
  {
   "cell_type": "code",
   "execution_count": null,
   "metadata": {},
   "outputs": [],
   "source": []
  }
 ],
 "metadata": {
  "kernelspec": {
   "display_name": ".venv",
   "language": "python",
   "name": "python3"
  },
  "language_info": {
   "codemirror_mode": {
    "name": "ipython",
    "version": 3
   },
   "file_extension": ".py",
   "mimetype": "text/x-python",
   "name": "python",
   "nbconvert_exporter": "python",
   "pygments_lexer": "ipython3",
   "version": "3.12.4"
  }
 },
 "nbformat": 4,
 "nbformat_minor": 2
}
