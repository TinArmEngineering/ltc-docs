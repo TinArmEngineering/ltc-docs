{
  "cells": [
    {
      "cell_type": "markdown",
      "metadata": {
        "id": "TBQLTzTNaE-_"
      },
      "source": [
        "<a target=\"_blank\" href=\"https://colab.research.google.com/github/TinArmEngineering/ltc-docs/blob/main/py-client/create-job.ipynb\">\n",
        "  <img src=\"https://colab.research.google.com/assets/colab-badge.svg\" alt=\"Open In Colab\"/>\n",
        "</a>"
      ]
    },
    {
      "cell_type": "markdown",
      "metadata": {
        "id": "Bw9fuGIkaE_A"
      },
      "source": [
        "# Starting up\n",
        "Log into the website for Tin Arm Engineering's machine solver. Under **profile**, retrieve your API key and, optionally, the organisation id that you wish to use.  \n",
        "\n",
        "**Consider your API key like a password. Do not commit it to a repository.**"
      ]
    },
    {
      "cell_type": "code",
      "execution_count": 1,
      "metadata": {
        "colab": {
          "base_uri": "https://localhost:8080/"
        },
        "id": "LMRZUfvAaE_B",
        "outputId": "a8857759-bdda-4a82-bb65-466578241f89"
      },
      "outputs": [
        {
          "output_type": "stream",
          "name": "stdout",
          "text": [
            "Requirement already satisfied: ltc_client in /usr/local/lib/python3.11/dist-packages (0.2.18)\n",
            "Requirement already satisfied: pint-pandas in /usr/local/lib/python3.11/dist-packages (0.7.1)\n",
            "Requirement already satisfied: Pint>=0.24 in /usr/local/lib/python3.11/dist-packages (from ltc_client) (0.24.4)\n",
            "Requirement already satisfied: numpy>=1.24 in /usr/local/lib/python3.11/dist-packages (from ltc_client) (2.0.2)\n",
            "Requirement already satisfied: pika>=1.3.2 in /usr/local/lib/python3.11/dist-packages (from ltc_client) (1.3.2)\n",
            "Requirement already satisfied: python-logging-rabbitmq>=2.3.0 in /usr/local/lib/python3.11/dist-packages (from ltc_client) (2.3.0)\n",
            "Requirement already satisfied: requests>=2.32.3 in /usr/local/lib/python3.11/dist-packages (from ltc_client) (2.32.3)\n",
            "Requirement already satisfied: tqdm>=4.66.4 in /usr/local/lib/python3.11/dist-packages (from ltc_client) (4.67.1)\n",
            "Requirement already satisfied: webstompy>=0.1.5 in /usr/local/lib/python3.11/dist-packages (from ltc_client) (0.1.5)\n",
            "Requirement already satisfied: pandas>=2.2 in /usr/local/lib/python3.11/dist-packages (from pint-pandas) (2.2.2)\n",
            "Requirement already satisfied: python-dateutil>=2.8.2 in /usr/local/lib/python3.11/dist-packages (from pandas>=2.2->pint-pandas) (2.8.2)\n",
            "Requirement already satisfied: pytz>=2020.1 in /usr/local/lib/python3.11/dist-packages (from pandas>=2.2->pint-pandas) (2025.2)\n",
            "Requirement already satisfied: tzdata>=2022.7 in /usr/local/lib/python3.11/dist-packages (from pandas>=2.2->pint-pandas) (2025.2)\n",
            "Requirement already satisfied: platformdirs>=2.1.0 in /usr/local/lib/python3.11/dist-packages (from Pint>=0.24->ltc_client) (4.3.7)\n",
            "Requirement already satisfied: typing-extensions>=4.0.0 in /usr/local/lib/python3.11/dist-packages (from Pint>=0.24->ltc_client) (4.13.1)\n",
            "Requirement already satisfied: flexcache>=0.3 in /usr/local/lib/python3.11/dist-packages (from Pint>=0.24->ltc_client) (0.3)\n",
            "Requirement already satisfied: flexparser>=0.4 in /usr/local/lib/python3.11/dist-packages (from Pint>=0.24->ltc_client) (0.4)\n",
            "Requirement already satisfied: charset-normalizer<4,>=2 in /usr/local/lib/python3.11/dist-packages (from requests>=2.32.3->ltc_client) (3.4.1)\n",
            "Requirement already satisfied: idna<4,>=2.5 in /usr/local/lib/python3.11/dist-packages (from requests>=2.32.3->ltc_client) (3.10)\n",
            "Requirement already satisfied: urllib3<3,>=1.21.1 in /usr/local/lib/python3.11/dist-packages (from requests>=2.32.3->ltc_client) (2.3.0)\n",
            "Requirement already satisfied: certifi>=2017.4.17 in /usr/local/lib/python3.11/dist-packages (from requests>=2.32.3->ltc_client) (2025.1.31)\n",
            "Requirement already satisfied: websocket-client>=1.8.0 in /usr/local/lib/python3.11/dist-packages (from webstompy>=0.1.5->ltc_client) (1.8.0)\n",
            "Requirement already satisfied: six>=1.5 in /usr/local/lib/python3.11/dist-packages (from python-dateutil>=2.8.2->pandas>=2.2->pint-pandas) (1.17.0)\n"
          ]
        }
      ],
      "source": [
        "pip install ltc_client pint-pandas"
      ]
    },
    {
      "cell_type": "code",
      "execution_count": 2,
      "metadata": {
        "colab": {
          "base_uri": "https://localhost:8080/"
        },
        "id": "_K3fZrCfaE_B",
        "outputId": "735cbe27-0788-465e-de8b-531fd21cf227"
      },
      "outputs": [
        {
          "output_type": "stream",
          "name": "stderr",
          "text": [
            "INFO:numexpr.utils:NumExpr defaulting to 2 threads.\n",
            "INFO:root:root_url: https://api.ltc.tinarmengineering.com\n"
          ]
        }
      ],
      "source": [
        "import ltc_client\n",
        "from ltc_client.api import STATUS_JOB, JOB_STATUS\n",
        "import numpy as np\n",
        "import pint_pandas\n",
        "import time\n",
        "from google.colab import userdata\n",
        "\n",
        "\n",
        "\n",
        "config = {  'root_url': \"https://api.ltc.tinarmengineering.com\",\n",
        "            'api_key': userdata.get('api_key'),\n",
        "            'org_id':userdata.get('org_id')}\n",
        "\n",
        "# Initalise the API\n",
        "api = ltc_client.Api(config[\"root_url\"], config[\"api_key\"], config[\"org_id\"])"
      ]
    },
    {
      "cell_type": "markdown",
      "metadata": {
        "id": "8wwWyHBHaE_B"
      },
      "source": [
        "## Unit Handling.\n",
        "The API enforces correct units to avoid ambiguity and errors. This is made easy as the API is compatible with [Pint](https://pint.readthedocs.io/en/stable/) and  Pint-Pandas unit handling libraries.  "
      ]
    },
    {
      "cell_type": "code",
      "execution_count": 3,
      "metadata": {
        "id": "ymq-PACtaE_C"
      },
      "outputs": [],
      "source": [
        "q = pint_pandas.PintType.ureg"
      ]
    },
    {
      "cell_type": "markdown",
      "metadata": {
        "id": "eGWKTsW4aE_C"
      },
      "source": [
        "## Set up the machine.\n",
        "We will do a simulation of a concentrated wound fractional slot machine, we will get on to how to design the machine later.  The machine is comprised of:\n",
        "1. the stator, and a\n",
        "2. rotor,\n",
        "3. and the winding parameters\n",
        "### Stator\n",
        "The tooth wound stator is parameterised by the following dictionary of parameters."
      ]
    },
    {
      "cell_type": "code",
      "execution_count": 4,
      "metadata": {
        "id": "EF1h56fPaE_C"
      },
      "outputs": [],
      "source": [
        "stator_parameters = {\n",
        "    \"slot_liner_thickness\": 400 * q.um,\n",
        "    \"stator_bore\": 8.20 * q.cm,\n",
        "    \"tooth_tip_depth\": 1.0 * q.mm,\n",
        "    \"slot_opening\": 1.5 * q.mm,\n",
        "    \"tooth_width\": 9.8 * q.mm,\n",
        "    \"stator_outer_diameter\": 0.136 * q.m,\n",
        "    \"back_iron_thickness\": 5.5 * q.mm,\n",
        "    \"stator_internal_radius\": 500 * q.um,\n",
        "    \"number_slots\": 12 * q.count,\n",
        "    \"tooth_tip_angle\": 70 * q.degrees\n",
        "    }\n"
      ]
    },
    {
      "cell_type": "markdown",
      "metadata": {
        "id": "1y4WvDb-aE_C"
      },
      "source": [
        "### Rotor\n",
        "A suitable rotor for this machine is a Surface Mounted rotor with Breadloaf Magnets.  It is parameterised by the following dictionary. We've used the variable `air_gap_length' to link the rotor_od to the stator bore.\n"
      ]
    },
    {
      "cell_type": "code",
      "execution_count": 5,
      "metadata": {
        "id": "B7aKVHn6aE_C"
      },
      "outputs": [],
      "source": [
        "\n",
        "air_gap_length = 1 * q.mm\n",
        "\n",
        "rotor_parameters = {\n",
        "    \"rotor_od\": stator_parameters[\"stator_bore\"] - 2 * air_gap_length,\n",
        "    \"rotor_bore\": 40 * q.mm,\n",
        "    \"banding_thickness\": 0.5 * q.mm,\n",
        "    \"number_poles\": 10 * q.count,\n",
        "    \"magnet_thickness\": 4.5 * q.millimeter,\n",
        "    \"magnet_pole_arc\": 150 * q.degrees,\n",
        "    \"magnet_inset\": 0.25 * q.millimeter,\n",
        "    \"magnet_segments\": 1 * q.count\n",
        "    }"
      ]
    },
    {
      "cell_type": "markdown",
      "metadata": {
        "id": "Hoymny7taE_C"
      },
      "source": [
        "## Winding\n",
        "The winding is described by the winding parametrs.  These need further explanation.  The parameter symmetry sets the degrees of symmetry used in the simulation."
      ]
    },
    {
      "cell_type": "code",
      "execution_count": 6,
      "metadata": {
        "id": "h9fUVItYaE_C"
      },
      "outputs": [],
      "source": [
        "\n",
        "# Calculate the GCD of the number of slots and the number of poles\n",
        "symmetry = np.gcd(stator_parameters[\"number_slots\"].magnitude, rotor_parameters[\"number_poles\"].magnitude) * q.count\n",
        "\n",
        "winding_parameters = {\n",
        "    \"symmetry\": symmetry,\n",
        "    \"number_phases\": 3 * q.count,\n",
        "    \"number_layers\": 2 * q.count,\n",
        "    \"coil_span\": 1 * q.count,\n",
        "    \"turns_per_coil\": 43 * q.count,\n",
        "    \"empty_slots\": 0 * q.count,\n",
        "    \"fill_factor\": 42 * q.percent\n",
        "    }"
      ]
    },
    {
      "cell_type": "markdown",
      "metadata": {
        "id": "3NX5HWP_aE_D"
      },
      "source": [
        "Finally create the Machine using the class `ltc_client.Machine`. This will initialise it with default materials.  We can change the materials later."
      ]
    },
    {
      "cell_type": "code",
      "execution_count": 7,
      "metadata": {
        "id": "nMf_xmmyaE_D"
      },
      "outputs": [],
      "source": [
        "\n",
        "our_machine = ltc_client.Machine(stator_parameters, rotor_parameters, winding_parameters)"
      ]
    },
    {
      "cell_type": "markdown",
      "metadata": {
        "id": "tGpEzBQyaE_D"
      },
      "source": [
        "## Set up the simulation job\n",
        "The simulation job is made up of a `Machine`, the opperating points, and the simulation parameters.\n",
        "\n",
        "The Simulation Parameters control the length of the simulation and the number of transient timesteps. To calculate the ironloss we need to simulate over one full electrical period.   We also set the active length here as it is a 2d simulation."
      ]
    },
    {
      "cell_type": "code",
      "execution_count": 8,
      "metadata": {
        "id": "c7j6q3KkaE_D"
      },
      "outputs": [],
      "source": [
        "\n",
        "simulation_parameters = {\n",
        "    \"samples_per_electrical_period\": 45 * q.count/q.turn,\n",
        "    \"timestep_intervals\": 45 * q.count,\n",
        "    \"active_length\": 65 * q.mm,\n",
        "    \"magnet_segments\": 2 * q.count}"
      ]
    },
    {
      "cell_type": "markdown",
      "metadata": {
        "id": "L1kC5UqxaE_D"
      },
      "source": [
        "## Operating Point\n",
        "We will set off two simultanious simulation jobs, an open circut simulation with 0 current, and the nominal opperating point with a q axis current density of 6.23 $A/mm^{2}$.  We will have 2 simulation jobs"
      ]
    },
    {
      "cell_type": "code",
      "execution_count": 9,
      "metadata": {
        "id": "6uvwQZRnaE_D"
      },
      "outputs": [],
      "source": [
        "op_open_cct = {\n",
        "    \"simulated_speed\": 2060 * q.rpm,\n",
        "    \"q_axis_current_density\": 0 * q.A / q.mm ** 2,\n",
        "    \"d_axis_current_density\": 0 * q.A / q.mm ** 2,\n",
        "    \"current_angle\": 0 * q.degrees\n",
        "    }\n",
        "\n",
        "op_nominal = {\n",
        "    \"simulated_speed\": 2060 * q.rpm,\n",
        "    'q_axis_current_density': 6.23 * q.A * q.mm**-2,\n",
        "    \"d_axis_current_density\": 0 * q.A / q.mm ** 2,\n",
        "    'current_angle': 255 * q.degrees\n",
        "    }"
      ]
    },
    {
      "cell_type": "code",
      "execution_count": 10,
      "metadata": {
        "id": "ueeQxNAWaE_D"
      },
      "outputs": [],
      "source": [
        "\n",
        "j1_open_cct = ltc_client.Job(our_machine, op_open_cct, simulation_parameters)\n",
        "j2_nominal = ltc_client.Job(our_machine, op_nominal, simulation_parameters)"
      ]
    },
    {
      "cell_type": "markdown",
      "metadata": {
        "id": "EvrlYtaeaE_D"
      },
      "source": [
        "# Use the API to create and run the simulation job\n",
        "\n",
        "The flow of a job state is :\n",
        "\n",
        "* New: 0,\n",
        "* QueuedForMeshing: 10,\n",
        "* WaitingForMesh: 20,\n",
        "* QueuedForSimSetup: 21,\n",
        "* SimSetup: 22,\n",
        "* QueuedForMeshConversion: 25,\n",
        "* MeshConversion: 26,\n",
        "* QueuedForSolving: 30,\n",
        "* Solving: 40,\n",
        "* QueuedForPostProcess: 50,\n",
        "* PostProcess: 60,\n",
        "* Complete: 70,\n",
        "\n",
        "If a job encouters an error at any point, it is directed to a quarentined state\n",
        "* Quarantined: 80\n",
        "\n",
        "\n",
        "<div class=\"alert alert-block alert-info\">\n",
        "<b>Reusable artifacts</b> If the machine geometry is identical to one of your other machines, it will reuse the mesh, so that the results of different operating point simulations are comparable.  This is the case here so  the first job will create the mesh, the 2nd job will wait for the first job to be meshed, and then solve in parrallel.\n",
        "</div>"
      ]
    },
    {
      "cell_type": "code",
      "execution_count": 11,
      "metadata": {
        "colab": {
          "base_uri": "https://localhost:8080/"
        },
        "id": "6Jw1W1QcaE_D",
        "outputId": "23803aca-23f1-4467-cd0e-7c79082d7e46"
      },
      "outputs": [
        {
          "output_type": "stream",
          "name": "stdout",
          "text": [
            "Job id, 67f665a34e0dceda698b0693, creation_date, 2025-04-09T12:18:43Z, status 0\n",
            "Job id, 67f665a34e0dceda698b0694, creation_date, 2025-04-09T12:18:43Z, status 0\n"
          ]
        }
      ],
      "source": [
        "j1_result = api.create_job(j1_open_cct)\n",
        "j2_result = api.create_job(j2_nominal)\n",
        "\n",
        "print('Job id, {id}, creation_date, {creation_date}, status {status}'.format(**j1_result))\n",
        "print('Job id, {id}, creation_date, {creation_date}, status {status}'.format(**j2_result))"
      ]
    },
    {
      "cell_type": "markdown",
      "metadata": {
        "id": "QTgVXwUOaE_D"
      },
      "source": [
        "To start a job, we use the api call [`api.update_job_status(job_id, status)`](https://api.ltc.tinarmengineering.com/docs/index.html#/jobs/put_jobs__id__status__status_) and set the job status to `QueuedForMeshing` which is the value 10.  We use the dictionary `JOB_STATUS` as an enum.\n",
        "\n",
        "Once the job is running, we probably want to monitor it.  Later we will show how to use the websockets to get asyncronous job updates without polling, but for this example, we will poll with 10s interval, and wait untill both jobs are in the status\n",
        "`Completed` which has the value 70.\n",
        "\n",
        "<div class=\"alert alert-block alert-info\">\n",
        "<b>Polling is not good</b> Please don't be tempted to use polling, it is not a good practice.  We will show you how to use websockets to get asyncronous updates in the next example.\n",
        "</div>"
      ]
    },
    {
      "cell_type": "code",
      "execution_count": 12,
      "metadata": {
        "colab": {
          "base_uri": "https://localhost:8080/"
        },
        "id": "HdHSg3hzaE_D",
        "outputId": "d289dff9-1ff0-4561-a78b-917af96ea008"
      },
      "outputs": [
        {
          "output_type": "stream",
          "name": "stderr",
          "text": [
            "INFO:root:Updating job status: https://api.ltc.tinarmengineering.com/jobs/67f665a34e0dceda698b0693/status/10?node_id=None&apikey=2ded6a97db3171e392ac45fce6d9d026&percentage_complete=None\n",
            "INFO:root:Updating job status: https://api.ltc.tinarmengineering.com/jobs/67f665a34e0dceda698b0694/status/10?node_id=None&apikey=2ded6a97db3171e392ac45fce6d9d026&percentage_complete=None\n"
          ]
        },
        {
          "output_type": "stream",
          "name": "stdout",
          "text": [
            "Job id= 67f665a34e0dceda698b0693, creation_date= 2025-04-09T12:18:43Z, status= 21\n",
            "Job id= 67f665a34e0dceda698b0694, creation_date= 2025-04-09T12:18:43Z, status= 21\n",
            "job 1 MeshConversion \t job 2 SimSetup\n",
            "job 1 Solving \t job 2 Solving\n",
            "job 1 Solving \t job 2 Solving\n",
            "job 1 Solving \t job 2 Solving\n",
            "job 1 Solving \t job 2 Solving\n",
            "job 1 Solving \t job 2 QueuedForPostProcess\n",
            "job 1 Solving \t job 2 PostProcess\n",
            "job 1 PostProcess \t job 2 Complete\n"
          ]
        }
      ],
      "source": [
        "j1_result = api.update_job_status(j1_open_cct.id, JOB_STATUS['QueuedForMeshing'])\n",
        "j2_result = api.update_job_status(j2_nominal.id, JOB_STATUS['QueuedForMeshing'])\n",
        "\n",
        "print('Job id= {id}, creation_date= {creation_date}, status= {status}'.format(**j1_result))\n",
        "print('Job id= {id}, creation_date= {creation_date}, status= {status}'.format(**j2_result))\n",
        "\n",
        "while STATUS_JOB[api.get_job(j1_open_cct.id)['status']] != 'Complete' or STATUS_JOB[api.get_job(j2_nominal.id)['status']] != 'Complete':\n",
        "    print(\"job 1 {0} \\t job 2 {1}\".format(STATUS_JOB[api.get_job(j1_open_cct.id)['status']], STATUS_JOB[api.get_job(j2_nominal.id)['status']] ))\n",
        "    time.sleep(10)\n",
        "time.sleep(1)"
      ]
    }
  ],
  "metadata": {
    "kernelspec": {
      "display_name": ".venv",
      "language": "python",
      "name": "python3"
    },
    "language_info": {
      "codemirror_mode": {
        "name": "ipython",
        "version": 3
      },
      "file_extension": ".py",
      "mimetype": "text/x-python",
      "name": "python",
      "nbconvert_exporter": "python",
      "pygments_lexer": "ipython3",
      "version": "3.11.6"
    },
    "colab": {
      "provenance": []
    }
  },
  "nbformat": 4,
  "nbformat_minor": 0
}