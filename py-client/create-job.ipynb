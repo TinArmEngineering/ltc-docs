{
 "cells": [
  {
   "cell_type": "markdown",
   "metadata": {},
   "source": [
    "<a target=\"_blank\" href=\"https://colab.research.google.com/github/TinArmEngineering/ltc-docs/blob/main/py-client/create-job.ipynb\">\n",
    "  <img src=\"https://colab.research.google.com/assets/colab-badge.svg\" alt=\"Open In Colab\"/>\n",
    "</a>"
   ]
  },
  {
   "cell_type": "markdown",
   "metadata": {},
   "source": [
    "# Starting up\n",
    "Log into the website for Tin Arm Engineering's machine solver. Under **profile**, retrieve your API key and, optionally, the organisation id that you wish to use.  \n",
    "\n",
    "**Consider your API key like a password. Do not commit it to a repository.**"
   ]
  },
  {
   "cell_type": "code",
   "execution_count": null,
   "metadata": {},
   "outputs": [],
   "source": [
    "pip install ltc_client pint-pandas"
   ]
  },
  {
   "cell_type": "code",
   "execution_count": null,
   "metadata": {},
   "outputs": [],
   "source": [
    "import ltc_client\n",
    "from ltc_client.api import STATUS_JOB, JOB_STATUS\n",
    "import numpy as np\n",
    "import pint_pandas\n",
    "import time\n",
    "\n",
    "config = {  'root_url': \"https://api.ltc.tinarmengineering.com\",\n",
    "            'api_key': \"my-api-key\",\n",
    "            'org_id': \"my-org-id\" }\n",
    "\n",
    "# Initalise the API\n",
    "api = ltc_client.Api(config[\"root_url\"], config[\"api_key\"], config[\"org_id\"])"
   ]
  },
  {
   "cell_type": "markdown",
   "metadata": {},
   "source": [
    "## Unit Handling. \n",
    "The API enforces correct units to avoid ambiguity and errors. This is made easy as the API is compatible with [Pint](https://pint.readthedocs.io/en/stable/) and  Pint-Pandas unit handling libraries.  "
   ]
  },
  {
   "cell_type": "code",
   "execution_count": null,
   "metadata": {},
   "outputs": [],
   "source": [
    "q = pint_pandas.PintType.ureg"
   ]
  },
  {
   "cell_type": "markdown",
   "metadata": {},
   "source": [
    "## Set up the machine. \n",
    "We will do a simulation of a concentrated wound fractional slot machine, we will get on to how to design the machine later.  The machine is comprised of:\n",
    "1. the stator, and a \n",
    "2. rotor, \n",
    "3. and the winding parameters \n",
    "### Stator\n",
    "The tooth wound stator is parameterised by the following dictionary of parameters. "
   ]
  },
  {
   "cell_type": "code",
   "execution_count": null,
   "metadata": {},
   "outputs": [],
   "source": [
    "stator_parameters = {\n",
    "    \"slot_liner_thickness\": 300 * q.um,\n",
    "    \"stator_bore\": 8.20 * q.cm,\n",
    "    \"tooth_tip_depth\": 1.0 * q.mm,\n",
    "    \"slot_opening\": 1.5 * q.mm,\n",
    "    \"tooth_width\": 9.8 * q.mm,\n",
    "    \"stator_outer_diameter\": 0.136 * q.m,\n",
    "    \"back_iron_thickness\": 5.5 * q.mm,\n",
    "    \"stator_internal_radius\": 500 * q.um,\n",
    "    \"number_slots\": 12 * q.count,\n",
    "    \"tooth_tip_angle\": 70 * q.degrees\n",
    "    }\n"
   ]
  },
  {
   "cell_type": "markdown",
   "metadata": {},
   "source": [
    "### Rotor\n",
    "A suitable rotor for this machine is a Surface Mounted rotor with Breadloaf Magnets.  It is parameterised by the following dictionary. We've used the variable `air_gap_length' to link the rotor_od to the stator bore.\n"
   ]
  },
  {
   "cell_type": "code",
   "execution_count": null,
   "metadata": {},
   "outputs": [],
   "source": [
    "\n",
    "air_gap_length = 1 * q.mm\n",
    "\n",
    "rotor_parameters = {\n",
    "    \"rotor_od\": stator_parameters[\"stator_bore\"] - 2 * air_gap_length,\n",
    "    \"rotor_bore\": 40 * q.mm,\n",
    "    \"banding_thickness\": 0.5 * q.mm,\n",
    "    \"number_poles\": 10 * q.count,\n",
    "    \"magnet_thickness\": 4.5 * q.millimeter,\n",
    "    \"magnet_pole_arc\": 150 * q.degrees,\n",
    "    \"magnet_inset\": 0.25 * q.millimeter\n",
    "    }"
   ]
  },
  {
   "cell_type": "markdown",
   "metadata": {},
   "source": [
    "## Winding\n",
    "The winding is described by the winding parametrs.  These need further explanation.  The parameter symmetry sets the degrees of symmetry used in the simulation. "
   ]
  },
  {
   "cell_type": "code",
   "execution_count": null,
   "metadata": {},
   "outputs": [],
   "source": [
    "\n",
    "# Calculate the GCD of the number of slots and the number of poles\n",
    "symmetry = np.gcd(stator_parameters[\"number_slots\"].magnitude, rotor_parameters[\"number_poles\"].magnitude) * q.count\n",
    "\n",
    "winding_parameters = {\n",
    "    \"symmetry\": symmetry,\n",
    "    \"number_phases\": 3 * q.count,\n",
    "    \"number_layers\": 2 * q.count,\n",
    "    \"coil_span\": 1 * q.count,\n",
    "    \"turns_per_coil\": 43 * q.count,\n",
    "    \"empty_slots\": 0 * q.count,\n",
    "    \"fill_factor\": 42 * q.percent\n",
    "    }"
   ]
  },
  {
   "cell_type": "markdown",
   "metadata": {},
   "source": [
    "Finally create the Machine using the class `ltc_client.Machine`. This will initialise it with default materials.  We can change the materials later. "
   ]
  },
  {
   "cell_type": "code",
   "execution_count": null,
   "metadata": {},
   "outputs": [],
   "source": [
    "\n",
    "our_machine = ltc_client.Machine(stator_parameters, rotor_parameters, winding_parameters)"
   ]
  },
  {
   "cell_type": "markdown",
   "metadata": {},
   "source": [
    "## Set up the simulation job\n",
    "The simulation job is made up of a `Machine`, the opperating points, and the simulation parameters.\n",
    "\n",
    "The Simulation Parameters control the length of the simulation and the number of transient timesteps. To calculate the ironloss we need to simulate over one full electrical period.   We also set the active length here as it is a 2d simulation. "
   ]
  },
  {
   "cell_type": "code",
   "execution_count": null,
   "metadata": {},
   "outputs": [],
   "source": [
    "\n",
    "simulation_parameters = {\n",
    "    \"samples_per_electrical_period\": 45 * q.count/q.turn,\n",
    "    \"timestep_intervals\": 45 * q.count,\n",
    "    \"active_length\": 65 * q.mm }"
   ]
  },
  {
   "cell_type": "markdown",
   "metadata": {},
   "source": [
    "## Operating Point\n",
    "We will set off two simultanious simulation jobs, an open circut simulation with 0 current, and the nominal opperating point with a q axis current density of 6.23 $A/mm^{2}$.  We will have 2 simulation jobs"
   ]
  },
  {
   "cell_type": "code",
   "execution_count": null,
   "metadata": {},
   "outputs": [],
   "source": [
    "op_open_cct = {\n",
    "    \"simulated_speed\": 2060 * q.rpm,\n",
    "    \"q_axis_current_density\": 0 * q.A / q.mm ** 2,\n",
    "    \"d_axis_current_density\": 0 * q.A / q.mm ** 2,\n",
    "    \"current_angle\": 0 * q.degrees\n",
    "    }\n",
    "\n",
    "op_nominal = {\n",
    "    \"simulated_speed\": 2060 * q.rpm,\n",
    "    'q_axis_current_density': 6.23 * q.A * q.mm**-2,\n",
    "    \"d_axis_current_density\": 0 * q.A / q.mm ** 2,\n",
    "    'current_angle': 255 * q.degrees\n",
    "    }"
   ]
  },
  {
   "cell_type": "code",
   "execution_count": null,
   "metadata": {},
   "outputs": [],
   "source": [
    "\n",
    "j1_open_cct = ltc_client.Job(our_machine, op_open_cct, simulation_parameters)\n",
    "j2_nominal = ltc_client.Job(our_machine, op_nominal, simulation_parameters)"
   ]
  },
  {
   "cell_type": "markdown",
   "metadata": {},
   "source": [
    "# Use the API to create and run the simulation job\n",
    "\n",
    "The flow of a job state is :\n",
    "\n",
    "* New: 0,\n",
    "* QueuedForMeshing: 10,\n",
    "* WaitingForMesh: 20,\n",
    "* QueuedForSimSetup: 21,\n",
    "* SimSetup: 22,\n",
    "* QueuedForMeshConversion: 25,\n",
    "* MeshConversion: 26,\n",
    "* QueuedForSolving: 30,\n",
    "* Solving: 40,\n",
    "* QueuedForPostProcess: 50,\n",
    "* PostProcess: 60,\n",
    "* Complete: 70,\n",
    "\n",
    "If a job encouters an error at any point, it is directed to a quarentined state\n",
    "* Quarantined: 80\n",
    "\n",
    "\n",
    "<div class=\"alert alert-block alert-info\">\n",
    "<b>Reusable artifacts</b> If the machine geometry is identical to one of your other machines, it will reuse the mesh, so that the results of different operating point simulations are comparable.  This is the case here so  the first job will create the mesh, the 2nd job will wait for the first job to be meshed, and then solve in parrallel.\n",
    "</div>"
   ]
  },
  {
   "cell_type": "code",
   "execution_count": null,
   "metadata": {},
   "outputs": [],
   "source": [
    "j1_result = api.create_job(j1_open_cct)\n",
    "j2_result = api.create_job(j2_nominal)\n",
    "\n",
    "print('Job id, {id}, creation_date, {creation_date}, status {status}'.format(**j1_result))\n",
    "print('Job id, {id}, creation_date, {creation_date}, status {status}'.format(**j2_result))"
   ]
  },
  {
   "cell_type": "markdown",
   "metadata": {},
   "source": [
    "To start a job, we use the api call [`api.update_job_status(job_id, status)`](https://api.ltc.tinarmengineering.com/docs/index.html#/jobs/put_jobs__id__status__status_) and set the job status to `QueuedForMeshing` which is the value 10.  We use the dictionary `JOB_STATUS` as an enum.\n",
    "\n",
    "Once the job is running, we probably want to monitor it.  Later we will show how to use the websockets to get asyncronous job updates without polling, but for this example, we will poll with 10s interval, and wait untill both jobs are in the status\n",
    "`Completed` which has the value 70.\n",
    "\n",
    "<div class=\"alert alert-block alert-info\">\n",
    "<b>Polling is not good</b> Please don't be tempted to use polling, it is not a good practice.  We will show you how to use websockets to get asyncronous updates in the next example.\n",
    "</div>"
   ]
  },
  {
   "cell_type": "code",
   "execution_count": null,
   "metadata": {},
   "outputs": [],
   "source": [
    "j1_result = api.update_job_status(j1_open_cct.id, JOB_STATUS['QueuedForMeshing'])\n",
    "j2_result = api.update_job_status(j2_nominal.id, JOB_STATUS['QueuedForMeshing'])\n",
    "\n",
    "print('Job id= {id}, creation_date= {creation_date}, status= {status}'.format(**j1_result))\n",
    "print('Job id= {id}, creation_date= {creation_date}, status= {status}'.format(**j2_result))\n",
    "\n",
    "while STATUS_JOB[api.get_job(j1_open_cct.id)['status']] != 'Complete' or STATUS_JOB[api.get_job(j2_nominal.id)['status']] != 'Complete':\n",
    "    print(\"job 1 {0} \\t job 2 {1}\".format(STATUS_JOB[api.get_job(j1_open_cct.id)['status']], STATUS_JOB[api.get_job(j2_nominal.id)['status']] ))\n",
    "    time.sleep(10)\n",
    "time.sleep(1)"
   ]
  }
 ],
 "metadata": {
  "kernelspec": {
   "display_name": ".venv",
   "language": "python",
   "name": "python3"
  },
  "language_info": {
   "codemirror_mode": {
    "name": "ipython",
    "version": 3
   },
   "file_extension": ".py",
   "mimetype": "text/x-python",
   "name": "python",
   "nbconvert_exporter": "python",
   "pygments_lexer": "ipython3",
   "version": "3.11.6"
  }
 },
 "nbformat": 4,
 "nbformat_minor": 2
}
