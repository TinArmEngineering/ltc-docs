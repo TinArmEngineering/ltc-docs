{
 "cells": [
  {
   "cell_type": "markdown",
   "metadata": {},
   "source": [
    "<a target=\"_blank\" href=\"https://colab.research.google.com/github/TinArmEngineering/ltc-docs/blob/main/py-client/create-job.ipynb\">\n",
    "  <img src=\"https://colab.research.google.com/assets/colab-badge.svg\" alt=\"Open In Colab\"/>\n",
    "</a>"
   ]
  },
  {
   "cell_type": "markdown",
   "metadata": {},
   "source": [
    "# Starting up\n",
    "Log into the website for Tin Arm Engineering's machine solver. Under **profile**, retrieve your API key and, optionally, the organisation id that you wish to use.  \n",
    "\n",
    "**Consider your API key like a password. Do not commit it to a repository.**"
   ]
  },
  {
   "cell_type": "code",
   "execution_count": null,
   "metadata": {},
   "outputs": [],
   "source": [
    "pip install ltc_client pint-pandas"
   ]
  },
  {
   "cell_type": "code",
   "execution_count": null,
   "metadata": {},
   "outputs": [],
   "source": [
    "import ltc_client\n",
    "from ltc_client.api import STATUS_JOB, JOB_STATUS\n",
    "import numpy as np\n",
    "import pint_pandas\n",
    "import time\n",
    "\n",
    "config = {  'root_url': \"https://api.ltc.tinarmengineering.com\",\n",
    "            'api_key': \"my-api-key\",\n",
    "            'org_id': \"my-org-id\" }\n",
    "\n",
    "api = ltc_client.Api(config[\"root_url\"], config[\"api_key\"], config[\"org_id\"])\n",
    "\n",
    "q = pint_pandas.PintType.ureg"
   ]
  },
  {
   "cell_type": "code",
   "execution_count": null,
   "metadata": {},
   "outputs": [],
   "source": [
    "stator_parameters = {\n",
    "    \"slot_liner_thickness\": 300 * q.um,\n",
    "    \"stator_bore\": 8.20 * q.cm,\n",
    "    \"tooth_tip_depth\": 1.0 * q.mm,\n",
    "    \"slot_opening\": 1.5 * q.mm,\n",
    "    \"tooth_width\": 9.8 * q.mm,\n",
    "    \"stator_outer_diameter\": 0.136 * q.m,\n",
    "    \"back_iron_thickness\": 5.5 * q.mm,\n",
    "    \"stator_internal_radius\": 500 * q.um,\n",
    "    \"number_slots\": 12 * q.count,\n",
    "    \"tooth_tip_angle\": 70 * q.degrees\n",
    "    }\n",
    "\n",
    "air_gap_length = 1 * q.mm\n",
    "\n",
    "rotor_parameters = {\n",
    "    \"rotor_od\": stator_parameters[\"stator_bore\"] - 2 * air_gap_length,\n",
    "    \"rotor_bore\": 40 * q.mm,\n",
    "    \"banding_thickness\": 0.5 * q.mm,\n",
    "    \"number_poles\": 10 * q.count,\n",
    "    \"magnet_thickness\": 4.5 * q.millimeter,\n",
    "    \"magnet_pole_arc\": 150 * q.degrees,\n",
    "    \"magnet_inset\": 0.25 * q.millimeter\n",
    "    }\n",
    "\n",
    "symmetry = np.gcd(stator_parameters[\"number_slots\"].magnitude, rotor_parameters[\"number_poles\"].magnitude) * q.count\n",
    "\n",
    "winding_parameters = {\n",
    "    \"symmetry\": symmetry,\n",
    "    \"number_phases\": 3 * q.count,\n",
    "    \"number_layers\": 2 * q.count,\n",
    "    \"coil_span\": 1 * q.count,\n",
    "    \"turns_per_coil\": 43 * q.count,\n",
    "    \"empty_slots\": 0 * q.count,\n",
    "    \"fill_factor\": 42 * q.percent\n",
    "    }\n",
    "\n",
    "our_machine = ltc_client.Machine(stator_parameters, rotor_parameters, winding_parameters)\n",
    "\n",
    "simulation_parameters = {\n",
    "    \"samples_per_electrical_period\": 45 * q.count/q.turn,\n",
    "    \"timestep_intervals\": 45 * q.count,\n",
    "    \"active_length\": 65 * q.mm }\n",
    "\n",
    "op_nominal = {\n",
    "    \"simulated_speed\": 2060 * q.rpm,\n",
    "    'q_axis_current_density': 6.23 * q.A * q.mm**-2,\n",
    "    \"d_axis_current_density\": 0 * q.A / q.mm ** 2,\n",
    "    'current_angle': 255 * q.degrees\n",
    "    }\n",
    "\n",
    "job = ltc_client.Job(our_machine, op_nominal, simulation_parameters)\n",
    "result = api.create_job(job)\n",
    "result = api.update_job_status(job.id, JOB_STATUS['QueuedForMeshing'])\n",
    "\n",
    "print('Job id= {id}, creation_date= {creation_date}, status= {status}'.format(**result))\n",
    "\n",
    "while STATUS_JOB[api.get_job(job.id)['status']] != 'Complete':\n",
    "    print(\"job 1 {0}\".format(STATUS_JOB[api.get_job(job.id)['status']] ))\n",
    "    time.sleep(10)\n",
    "\n",
    "print(\"job 1 {0}\".format(STATUS_JOB[api.get_job(job.id)['status']] ))"
   ]
  }
 ],
 "metadata": {
  "kernelspec": {
   "display_name": ".venv",
   "language": "python",
   "name": "python3"
  },
  "language_info": {
   "codemirror_mode": {
    "name": "ipython",
    "version": 3
   },
   "file_extension": ".py",
   "mimetype": "text/x-python",
   "name": "python",
   "nbconvert_exporter": "python",
   "pygments_lexer": "ipython3",
   "version": "3.11.6"
  }
 },
 "nbformat": 4,
 "nbformat_minor": 2
}
